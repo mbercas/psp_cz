{
 "cells": [
  {
   "cell_type": "markdown",
   "metadata": {},
   "source": [
    "# Analyzing the downloaded data\n",
    "\n",
    "## Assumptions\n",
    "\n",
    "You have used the `download_stenos.py` and `generate_pandas.py` to download the steno protocols and save them into a compressed pickle.\n",
    "\n",
    "I have them under ./kk/ folder, you will have to adjust the paths accordingly to your storage location."
   ]
  },
  {
   "cell_type": "code",
   "execution_count": 1,
   "metadata": {},
   "outputs": [],
   "source": [
    "%matplotlib inline\n",
    "\n",
    "import pandas as pd\n",
    "import matplotlib.pyplot as plt\n",
    "\n",
    "plt.rcParams['figure.figsize'] = [10, 5]\n",
    "\n",
    "df2017 = pd.read_pickle('./kk/psp2017.pkl.xz', compression='xz')\n",
    "df2013 = pd.read_pickle('./kk/psp2013_2017.pkl.xz', compression='xz')"
   ]
  },
  {
   "cell_type": "markdown",
   "metadata": {},
   "source": [
    "We have loaded all the stenos and metadata from the sessions between 2013-2017 in the df2013 data frame and the protocols from 2017 into df2017, the data frames have the following columns.\n",
    "\n",
    "For 2013-2017 we have 29067 files "
   ]
  },
  {
   "cell_type": "code",
   "execution_count": 2,
   "metadata": {},
   "outputs": [
    {
     "name": "stdout",
     "output_type": "stream",
     "text": [
      "2017-2017\n",
      "\tTotal files:  29067\n",
      "\tTotal tokens: 5549825\n",
      "2017-\n",
      "\tTotal files:  10486\n",
      "\tTotal tokens: 2072892\n"
     ]
    }
   ],
   "source": [
    "print(\"2017-2017\")\n",
    "print(\"\\tTotal files:  {}\".format(df2013[\"tokens\"].count()))\n",
    "print(\"\\tTotal tokens: {}\".format(df2013[\"tokens\"].sum()))\n",
    "\n",
    "\n",
    "print(\"2017-\")\n",
    "print(\"\\tTotal files:  {}\".format(df2017[\"tokens\"].count()))\n",
    "print(\"\\tTotal tokens: {}\".format(df2017[\"tokens\"].sum()))"
   ]
  },
  {
   "cell_type": "markdown",
   "metadata": {},
   "source": [
    "We can see who are the people that have more tokens, for that we will group the data frame by `name` and sum the tokens. Finally we can take the 20 largest."
   ]
  },
  {
   "cell_type": "code",
   "execution_count": 3,
   "metadata": {},
   "outputs": [
    {
     "name": "stdout",
     "output_type": "stream",
     "text": [
      "Total number of different speakers: 300\n",
      "\n",
      "Top 20 speakers by number of tokens for 2013-2017\n"
     ]
    },
    {
     "data": {
      "text/plain": [
       "name\n",
       "Poslanec_Zbyněk_Stanjura                                 383685\n",
       "Předseda_vlády_ČR_Bohuslav_Sobotka                       267594\n",
       "Poslanec_Miroslav_Kalousek                               185406\n",
       "Poslanec_Petr_Bendl                                      134751\n",
       "Poslanec_František_Laudát                                112130\n",
       "Místopředseda_vlády_ČR_a_ministr_financí_Andrej_Babiš    108226\n",
       "Poslanec_Martin_Kolovratník                              105577\n",
       "Poslanec_Ludvík_Hovorka                                   94987\n",
       "Místopředseda_PSP_Vojtěch_Filip                           86079\n",
       "Poslanec_Michal_Kučera                                    83560\n",
       "Poslanec_Tomio_Okamura                                    81233\n",
       "Ministr_zahraničních_věcí_ČR_Lubomír_Zaorálek             80813\n",
       "Ministr_vnitra_ČR_Milan_Chovanec                          77247\n",
       "Ministr_životního_prostředí_ČR_Richard_Brabec             75411\n",
       "Poslanec_Karel_Fiedler                                    75148\n",
       "Poslankyně_Jana_Černochová                                68947\n",
       "Ministr_zemědělství_ČR_Marian_Jurečka                     68658\n",
       "Poslanec_Marek_Benda                                      67470\n",
       "Poslanec_Jan_Zahradník                                    64232\n",
       "Poslanec_Pavel_Kováčik                                    58041\n",
       "Name: tokens, dtype: int64"
      ]
     },
     "execution_count": 3,
     "metadata": {},
     "output_type": "execute_result"
    }
   ],
   "source": [
    "top_n = 20\n",
    "g_name_2013 = df2013.groupby([\"name\"])\n",
    "print(\"Total number of different speakers: {}\\n\".format(len(g_name_2013)))\n",
    "print(\"Top {} speakers by number of tokens for 2013-2017\".format(top_n))\n",
    "g_name_2013[\"tokens\"].sum().nlargest(top_n)"
   ]
  },
  {
   "cell_type": "code",
   "execution_count": 4,
   "metadata": {},
   "outputs": [
    {
     "name": "stdout",
     "output_type": "stream",
     "text": [
      "Total number of different speakers: 270\n",
      "\n",
      "Top 20 speakers by number of tokens for 2017\n",
      "name\n",
      "Poslanec_Zbyněk_Stanjura                   108037\n",
      "Předseda_vlády_ČR_Andrej_Babiš              65221\n",
      "Poslanec_Martin_Kolovratník                 63619\n",
      "Poslanec_Jakub_Michálek                     56038\n",
      "Poslanec_Miroslav_Kalousek                  48733\n",
      "Ministryně_financí_ČR_Alena_Schillerová     48348\n",
      "Ministr_zdravotnictví_ČR_Adam_Vojtěch       41818\n",
      "Poslanec_Marek_Benda                        39580\n",
      "Poslanec_Vojtěch_Munzar                     38385\n",
      "Poslanec_Mikuláš_Ferjenčík                  36719\n",
      "Místopředseda_PSP_Tomio_Okamura             35933\n",
      "Poslanec_Jan_Skopeček                       32153\n",
      "Poslanec_Marian_Jurečka                     29294\n",
      "Poslanec_Ivan_Adamec                        29073\n",
      "Poslanec_Marek_Výborný                      28069\n",
      "Poslanec_Leo_Luzar                          27373\n",
      "Poslanec_Vít_Kaňkovský                      27150\n",
      "Poslankyně_Markéta_Pekarová_Adamová         26956\n",
      "Ministr_dopravy_ČR_Dan_Ťok                  26954\n",
      "Poslankyně_Věra_Kovářová                    26116\n",
      "Name: tokens, dtype: int64\n"
     ]
    }
   ],
   "source": [
    "top_n = 20\n",
    "g_name_2017 = df2017.groupby([\"name\"])\n",
    "print(\"Total number of different speakers: {}\\n\".format(len(g_name_2017)))\n",
    "\n",
    "print(\"Top {} speakers by number of tokens for 2017\".format(top_n))\n",
    "print(g_name_2017[\"tokens\"].sum().nlargest(top_n))\n",
    "\n"
   ]
  },
  {
   "cell_type": "code",
   "execution_count": 5,
   "metadata": {},
   "outputs": [
    {
     "data": {
      "image/png": "[encoded data removed]",
      "text/plain": [
       "<matplotlib.figure.Figure at 0x7fee1837c2e8>"
      ]
     },
     "metadata": {},
     "output_type": "display_data"
    }
   ],
   "source": [
    "plt.suptitle(\"Distribution of # tokens per person\")\n",
    "ax1=plt.subplot(121)\n",
    "df2013.groupby([\"name\"])[\"tokens\"].sum().hist(bins=100, ax=ax1)\n",
    "plt.title(\"2013-2107\")\n",
    "ax1=plt.subplot(122)\n",
    "df2017.groupby([\"name\"])[\"tokens\"].sum().hist(bins=100, ax=ax1)\n",
    "_ = plt.title(\"2017-\")\n"
   ]
  }
 ],
 "metadata": {
  "kernelspec": {
   "display_name": "Python 3",
   "language": "python",
   "name": "python3"
  },
  "language_info": {
   "codemirror_mode": {
    "name": "ipython",
    "version": 3
   },
   "file_extension": ".py",
   "mimetype": "text/x-python",
   "name": "python",
   "nbconvert_exporter": "python",
   "pygments_lexer": "ipython3",
   "version": "3.6.7"
  }
 },
 "nbformat": 4,
 "nbformat_minor": 2
}
