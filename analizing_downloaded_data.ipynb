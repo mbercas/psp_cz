{
 "cells": [
  {
   "cell_type": "markdown",
   "metadata": {},
   "source": [
    "# Analyzing the downloaded data\n",
    "\n",
    "## Assumptions\n",
    "\n",
    "You have used the `download_stenos.py` and `generate_pandas.py` to download the steno protocols and save them into a compressed pickle.\n",
    "\n",
    "I have them under ./kk/ folder, you will have to adjust the paths accordingly to your storage location."
   ]
  },
  {
   "cell_type": "code",
   "execution_count": 13,
   "metadata": {},
   "outputs": [
    {
     "data": {
      "text/plain": [
       "Index(['session', 'date', 'topic_idx', 'topic_str', 'order', 'name',\n",
       "       'steno_name', 'file_name', 'text', 'tokens', 'age', 'sex', 'titles',\n",
       "       'party'],\n",
       "      dtype='object')"
      ]
     },
     "execution_count": 13,
     "metadata": {},
     "output_type": "execute_result"
    }
   ],
   "source": [
    "%matplotlib inline\n",
    "\n",
    "import pandas as pd\n",
    "import matplotlib.pyplot as plt\n",
    "\n",
    "plt.rcParams['figure.figsize'] = [10, 5]\n",
    "\n",
    "df2017 = pd.read_pickle('./kk/psp2017.pkl.xz', compression='xz')\n",
    "#df2013 = pd.read_pickle('./kk/psp2013_2017.pkl.xz', compression='xz')\n",
    "\n",
    "df2017.columns"
   ]
  },
  {
   "cell_type": "markdown",
   "metadata": {},
   "source": [
    "The data frame contains interventions in each two and the following columns:\n",
    "   \n",
    "   - 'session', 'date', 'topic_idx', 'topic_str', 'order', \n",
    "     The session, the date of the session, the topic being discussed, and the order of intervention for the session\n",
    "   \n",
    "   - 'name','steno_name', \n",
    "     The name of the speacker and the string that appears in the steno protocol\n",
    "   \n",
    "       - 'age', 'sex', 'titles','party'\n",
    "       Information about the speaker\n",
    "   \n",
    "   - 'file_name', 'text', \n",
    "     The file name that contains the information, and the text in the filed\n",
    "   \n",
    "   - 'tokens', \n",
    "     The number of tokens on the unfiltered file\n",
    "\n",
    "\n",
    "We have loaded all the stenos and metadata from the sessions between 2013-2017 in the df2013 data frame and the protocols from 2017 into df2017, the data frames have the following columns.\n",
    "\n",
    "For 2013-2017 we have 29067 files "
   ]
  },
  {
   "cell_type": "code",
   "execution_count": 8,
   "metadata": {},
   "outputs": [
    {
     "name": "stdout",
     "output_type": "stream",
     "text": [
      "2017-\n",
      "\tTotal files:  10464\n",
      "\tTotal tokens: 2098670\n"
     ]
    }
   ],
   "source": [
    "\"\"\"print(\"2017-2017\")\n",
    "print(\"\\tTotal files:  {}\".format(df2013[\"tokens\"].count()))\n",
    "print(\"\\tTotal tokens: {}\".format(df2013[\"tokens\"].sum()))\n",
    "\"\"\"\n",
    "\n",
    "print(\"2017-\")\n",
    "print(\"\\tTotal files:  {}\".format(df2017[\"tokens\"].count()))\n",
    "print(\"\\tTotal tokens: {}\".format(df2017[\"tokens\"].sum()))"
   ]
  },
  {
   "cell_type": "markdown",
   "metadata": {},
   "source": [
    "We can see who are the people that have more tokens, for that we will group the data frame by `name` and sum the tokens. Finally we can take the 20 largest."
   ]
  },
  {
   "cell_type": "code",
   "execution_count": 9,
   "metadata": {},
   "outputs": [
    {
     "data": {
      "text/plain": [
       "'top_n = 20\\ng_name_2013 = df2013.groupby([\"name\"])\\nprint(\"Total number of different speakers: {}\\n\".format(len(g_name_2013)))\\nprint(\"Top {} speakers by number of tokens for 2013-2017\".format(top_n))\\ng_name_2013[\"tokens\"].sum().nlargest(top_n)'"
      ]
     },
     "execution_count": 9,
     "metadata": {},
     "output_type": "execute_result"
    }
   ],
   "source": [
    "\"\"\"top_n = 20\n",
    "g_name_2013 = df2013.groupby([\"name\"])\n",
    "print(\"Total number of different speakers: {}\\n\".format(len(g_name_2013)))\n",
    "print(\"Top {} speakers by number of tokens for 2013-2017\".format(top_n))\n",
    "g_name_2013[\"tokens\"].sum().nlargest(top_n)\"\"\""
   ]
  },
  {
   "cell_type": "code",
   "execution_count": 15,
   "metadata": {},
   "outputs": [
    {
     "name": "stdout",
     "output_type": "stream",
     "text": [
      "Total number of different speakers: 241\n",
      "\n",
      "Top 50 speakers by number of tokens for 2017\n",
      "name\n",
      "Zbyněk Stanjura             110281\n",
      "Andrej Babiš                 66463\n",
      "Martin Kolovratník           64169\n",
      "Jakub Michálek               56669\n",
      "Miroslav Kalousek            48733\n",
      "Alena Schillerová            48348\n",
      "Adam Vojtěch                 42954\n",
      "Marek Benda                  40026\n",
      "Vojtěch Munzar               38385\n",
      "Tomio Okamura                38073\n",
      "Mikuláš Ferjenčík            37388\n",
      "Jan Skopeček                 32153\n",
      "Marian Jurečka               31657\n",
      "Ivan Adamec                  29073\n",
      "Vít Kaňkovský                28603\n",
      "Leo Luzar                    28205\n",
      "Marek Výborný                28069\n",
      "Vojtěch Filip                27434\n",
      "Markéta Pekarová Adamová     27184\n",
      "Dan Ťok                      26954\n",
      "Věra Kovářová                26442\n",
      "Jan Zahradník                25948\n",
      "Richard Brabec               24512\n",
      "Petr Fiala                   23239\n",
      "Václav Klaus                 22947\n",
      "Helena Válková               22450\n",
      "Kateřina Valachová           22352\n",
      "Vlastimil Válek              22335\n",
      "Jiří Bláha                   21835\n",
      "Jan Bartošek                 20803\n",
      "Ivan Bartoš                  19751\n",
      "Jan Bauer                    19408\n",
      "Dominik Feri                 19324\n",
      "Olga Richterová              17979\n",
      "Ondřej Benešík               17351\n",
      "Jan Farský                   17244\n",
      "Vojtěch Pikal                17244\n",
      "Jana Černochová              16615\n",
      "Martin Kupka                 16210\n",
      "Jan Kněžínek                 16154\n",
      "Pavel Kováčik                15792\n",
      "Jan Hamáček                  15702\n",
      "Jan Chvojka                  15468\n",
      "Helena Langšádlová           14643\n",
      "Patrik Nacher                14616\n",
      "Vít Rakušan                  14517\n",
      "Klára Dostálová              13536\n",
      "Jana Maláčová                13325\n",
      "Robert Plaga                 12536\n",
      "Petr Pávek                   12473\n",
      "Name: tokens, dtype: int64\n"
     ]
    }
   ],
   "source": [
    "top_n = 50\n",
    "g_name_2017 = df2017.groupby([\"name\"])\n",
    "print(\"Total number of different speakers: {}\\n\".format(len(g_name_2017)))\n",
    "\n",
    "print(\"Top {} speakers by number of tokens for 2017\".format(top_n))\n",
    "print(g_name_2017[\"tokens\"].sum().nlargest(top_n))\n",
    "\n"
   ]
  },
  {
   "cell_type": "code",
   "execution_count": 11,
   "metadata": {},
   "outputs": [
    {
     "data": {
      "image/png": "[encoded data removed]",
      "text/plain": [
       "<matplotlib.figure.Figure at 0x7f93b1b61780>"
      ]
     },
     "metadata": {},
     "output_type": "display_data"
    }
   ],
   "source": [
    "plt.suptitle(\"Distribution of # tokens per person\")\n",
    "ax1=plt.subplot(121)\n",
    "#df2013.groupby([\"name\"])[\"tokens\"].sum().hist(bins=100, ax=ax1)\n",
    "#plt.title(\"2013-2107\")\n",
    "ax1=plt.subplot(122)\n",
    "df2017.groupby([\"name\"])[\"tokens\"].sum().hist(bins=100, ax=ax1)\n",
    "_ = plt.title(\"2017-\")\n"
   ]
  },
  {
   "cell_type": "code",
   "execution_count": null,
   "metadata": {},
   "outputs": [],
   "source": []
  },
  {
   "cell_type": "code",
   "execution_count": null,
   "metadata": {},
   "outputs": [],
   "source": []
  }
 ],
 "metadata": {
  "kernelspec": {
   "display_name": "Python 3",
   "language": "python",
   "name": "python3"
  },
  "language_info": {
   "codemirror_mode": {
    "name": "ipython",
    "version": 3
   },
   "file_extension": ".py",
   "mimetype": "text/x-python",
   "name": "python",
   "nbconvert_exporter": "python",
   "pygments_lexer": "ipython3",
   "version": "3.6.7"
  }
 },
 "nbformat": 4,
 "nbformat_minor": 2
}
