{
 "cells": [
  {
   "cell_type": "markdown",
   "metadata": {},
   "source": [
    "# Analyzing the downloaded data\n",
    "\n",
    "## Assumptions\n",
    "\n",
    "You have used the `download_stenos.py` and `generate_pandas.py` to download the steno protocols and save them into a compressed pickle.\n",
    "\n",
    "I have them under ./data/ folder, you will have to adjust the paths accordingly to your storage location."
   ]
  },
  {
   "cell_type": "code",
   "execution_count": 1,
   "metadata": {},
   "outputs": [
    {
     "name": "stdout",
     "output_type": "stream",
     "text": [
      "Pandas version: 0.24.1\n"
     ]
    },
    {
     "data": {
      "text/plain": [
       "Index(['session', 'date', 'topic_idx', 'topic_str', 'order', 'name',\n",
       "       'steno_name', 'file_name', 'tokens', 'birthyear', 'age', 'sex',\n",
       "       'titles', 'party', 'text'],\n",
       "      dtype='object')"
      ]
     },
     "execution_count": 1,
     "metadata": {},
     "output_type": "execute_result"
    }
   ],
   "source": [
    "%matplotlib inline\n",
    "\n",
    "import pandas as pd\n",
    "import matplotlib\n",
    "import matplotlib.pyplot as plt\n",
    "\n",
    "df2017 = pd.read_csv('./data/psp2017.tsv.xz', sep='\\t', header=0, encoding='utf-8', compression='xz')\n",
    "df2013 = pd.read_csv('./data/psp2013_2017.tsv.xz', sep='\\t', header=0, encoding='utf-8', compression='xz')\n",
    "\n",
    "print(\"Pandas version: {}\".format(pd.__version__))\n",
    "\n",
    "df2017.columns"
   ]
  },
  {
   "cell_type": "markdown",
   "metadata": {},
   "source": [
    "The data frame contains interventions in each two and the following columns:\n",
    "   \n",
    "   - 'session', 'date', 'topic_idx', 'topic_str', 'order', \n",
    "     The session, the date of the session, the topic being discussed, and the order of intervention for the session\n",
    "   \n",
    "   - 'name','steno_name', \n",
    "     The name of the speacker and the string that appears in the steno protocol\n",
    "   \n",
    "       - 'age', 'sex', 'titles','party', 'birthday'\n",
    "       Information about the speaker; `age is the age at the time of the last steno of the dataset`\n",
    "   \n",
    "   - 'file_name', 'text', \n",
    "     The file name that contains the information, and the text in the filed\n",
    "   \n",
    "   - 'tokens', \n",
    "     The number of tokens on the unfiltered file\n",
    "\n",
    "\n",
    "We have loaded all the stenos and metadata from the sessions between 2013-2017 in the df2013 data frame and the protocols from 2017 into df2017, the data frames have the following columns.\n",
    "\n",
    "For 2013-2017 we have 29067 files "
   ]
  },
  {
   "cell_type": "code",
   "execution_count": 2,
   "metadata": {},
   "outputs": [
    {
     "name": "stdout",
     "output_type": "stream",
     "text": [
      "2013-2017\n",
      "\tTotal files:  28947\n",
      "\tTotal tokens: 5621523\n",
      "2017-\n",
      "\tTotal files:  12597\n",
      "\tTotal tokens: 2540961\n"
     ]
    }
   ],
   "source": [
    "print(\"2013-2017\")\n",
    "print(\"\\tTotal files:  {}\".format(df2013[\"tokens\"].count()))\n",
    "print(\"\\tTotal tokens: {}\".format(df2013[\"tokens\"].sum()))\n",
    "\n",
    "\n",
    "print(\"2017-\")\n",
    "print(\"\\tTotal files:  {}\".format(df2017[\"tokens\"].count()))\n",
    "print(\"\\tTotal tokens: {}\".format(df2017[\"tokens\"].sum()))"
   ]
  },
  {
   "cell_type": "markdown",
   "metadata": {},
   "source": [
    "We can see who are the people that have more tokens, for that we will group the data frame by `name` and sum the tokens. Finally we can take the 20 largest."
   ]
  },
  {
   "cell_type": "code",
   "execution_count": 3,
   "metadata": {},
   "outputs": [
    {
     "name": "stdout",
     "output_type": "stream",
     "text": [
      "Total number of different speakers: 260\n",
      "\n",
      "Top 20 speakers by number of tokens for 2013-2017\n"
     ]
    },
    {
     "data": {
      "text/html": [
       "<div>\n",
       "<style scoped>\n",
       "    .dataframe tbody tr th:only-of-type {\n",
       "        vertical-align: middle;\n",
       "    }\n",
       "\n",
       "    .dataframe tbody tr th {\n",
       "        vertical-align: top;\n",
       "    }\n",
       "\n",
       "    .dataframe thead th {\n",
       "        text-align: right;\n",
       "    }\n",
       "</style>\n",
       "<table border=\"1\" class=\"dataframe\">\n",
       "  <thead>\n",
       "    <tr style=\"text-align: right;\">\n",
       "      <th></th>\n",
       "      <th></th>\n",
       "      <th>tokens</th>\n",
       "    </tr>\n",
       "    <tr>\n",
       "      <th>name</th>\n",
       "      <th>party</th>\n",
       "      <th></th>\n",
       "    </tr>\n",
       "  </thead>\n",
       "  <tbody>\n",
       "    <tr>\n",
       "      <th>Zbyněk Stanjura</th>\n",
       "      <th>ODS</th>\n",
       "      <td>387564</td>\n",
       "    </tr>\n",
       "    <tr>\n",
       "      <th>Bohuslav Sobotka</th>\n",
       "      <th>ČSSD</th>\n",
       "      <td>267594</td>\n",
       "    </tr>\n",
       "    <tr>\n",
       "      <th>Miroslav Kalousek</th>\n",
       "      <th>TOP09</th>\n",
       "      <td>187703</td>\n",
       "    </tr>\n",
       "    <tr>\n",
       "      <th>Petr Bendl</th>\n",
       "      <th>ODS</th>\n",
       "      <td>134829</td>\n",
       "    </tr>\n",
       "    <tr>\n",
       "      <th>František Laudát</th>\n",
       "      <th>TOP09</th>\n",
       "      <td>112293</td>\n",
       "    </tr>\n",
       "    <tr>\n",
       "      <th>Andrej Babiš</th>\n",
       "      <th>ANO2011</th>\n",
       "      <td>111385</td>\n",
       "    </tr>\n",
       "    <tr>\n",
       "      <th>Martin Kolovratník</th>\n",
       "      <th>ANO2011</th>\n",
       "      <td>106727</td>\n",
       "    </tr>\n",
       "    <tr>\n",
       "      <th>Vojtěch Filip</th>\n",
       "      <th>KSČM</th>\n",
       "      <td>103694</td>\n",
       "    </tr>\n",
       "    <tr>\n",
       "      <th>Ludvík Hovorka</th>\n",
       "      <th>KDU-ČSL</th>\n",
       "      <td>97121</td>\n",
       "    </tr>\n",
       "    <tr>\n",
       "      <th>Michal Kučera</th>\n",
       "      <th>TOP09</th>\n",
       "      <td>83998</td>\n",
       "    </tr>\n",
       "    <tr>\n",
       "      <th>Richard Brabec</th>\n",
       "      <th>ANO2011</th>\n",
       "      <td>81262</td>\n",
       "    </tr>\n",
       "    <tr>\n",
       "      <th>Tomio Okamura</th>\n",
       "      <th>SPD</th>\n",
       "      <td>81231</td>\n",
       "    </tr>\n",
       "    <tr>\n",
       "      <th>Lubomír Zaorálek</th>\n",
       "      <th>ČSSD</th>\n",
       "      <td>81004</td>\n",
       "    </tr>\n",
       "    <tr>\n",
       "      <th>Milan Chovanec</th>\n",
       "      <th>ČSSD</th>\n",
       "      <td>77436</td>\n",
       "    </tr>\n",
       "    <tr>\n",
       "      <th>Karel Fiedler</th>\n",
       "      <th>Úsvit</th>\n",
       "      <td>76887</td>\n",
       "    </tr>\n",
       "    <tr>\n",
       "      <th>Marian Jurečka</th>\n",
       "      <th>KDU-ČSL</th>\n",
       "      <td>70630</td>\n",
       "    </tr>\n",
       "    <tr>\n",
       "      <th>Jana Černochová</th>\n",
       "      <th>ODS</th>\n",
       "      <td>68947</td>\n",
       "    </tr>\n",
       "    <tr>\n",
       "      <th>Marek Benda</th>\n",
       "      <th>ODS</th>\n",
       "      <td>67683</td>\n",
       "    </tr>\n",
       "    <tr>\n",
       "      <th>Jan Zahradník</th>\n",
       "      <th>ODS</th>\n",
       "      <td>65199</td>\n",
       "    </tr>\n",
       "    <tr>\n",
       "      <th>Pavel Kováčik</th>\n",
       "      <th>KSČM</th>\n",
       "      <td>58919</td>\n",
       "    </tr>\n",
       "  </tbody>\n",
       "</table>\n",
       "</div>"
      ],
      "text/plain": [
       "                            tokens\n",
       "name               party          \n",
       "Zbyněk Stanjura    ODS      387564\n",
       "Bohuslav Sobotka   ČSSD     267594\n",
       "Miroslav Kalousek  TOP09    187703\n",
       "Petr Bendl         ODS      134829\n",
       "František Laudát   TOP09    112293\n",
       "Andrej Babiš       ANO2011  111385\n",
       "Martin Kolovratník ANO2011  106727\n",
       "Vojtěch Filip      KSČM     103694\n",
       "Ludvík Hovorka     KDU-ČSL   97121\n",
       "Michal Kučera      TOP09     83998\n",
       "Richard Brabec     ANO2011   81262\n",
       "Tomio Okamura      SPD       81231\n",
       "Lubomír Zaorálek   ČSSD      81004\n",
       "Milan Chovanec     ČSSD      77436\n",
       "Karel Fiedler      Úsvit     76887\n",
       "Marian Jurečka     KDU-ČSL   70630\n",
       "Jana Černochová    ODS       68947\n",
       "Marek Benda        ODS       67683\n",
       "Jan Zahradník      ODS       65199\n",
       "Pavel Kováčik      KSČM      58919"
      ]
     },
     "execution_count": 3,
     "metadata": {},
     "output_type": "execute_result"
    }
   ],
   "source": [
    "top_n = 20\n",
    "g_name_2013 = df2013.groupby([\"name\",\"party\"])\n",
    "print(\"Total number of different speakers: {}\\n\".format(len(g_name_2013)))\n",
    "print(\"Top {} speakers by number of tokens for 2013-2017\".format(top_n))\n",
    "g_name_2013[[\"party\",\"tokens\"]].sum(level=0).nlargest(top_n, \"tokens\")"
   ]
  },
  {
   "cell_type": "code",
   "execution_count": 4,
   "metadata": {},
   "outputs": [
    {
     "name": "stdout",
     "output_type": "stream",
     "text": [
      "Total number of different speakers: 248\n",
      "\n",
      "Top 20 speakers by number of tokens for 2017\n"
     ]
    },
    {
     "data": {
      "text/html": [
       "<div>\n",
       "<style scoped>\n",
       "    .dataframe tbody tr th:only-of-type {\n",
       "        vertical-align: middle;\n",
       "    }\n",
       "\n",
       "    .dataframe tbody tr th {\n",
       "        vertical-align: top;\n",
       "    }\n",
       "\n",
       "    .dataframe thead th {\n",
       "        text-align: right;\n",
       "    }\n",
       "</style>\n",
       "<table border=\"1\" class=\"dataframe\">\n",
       "  <thead>\n",
       "    <tr style=\"text-align: right;\">\n",
       "      <th></th>\n",
       "      <th></th>\n",
       "      <th>tokens</th>\n",
       "    </tr>\n",
       "    <tr>\n",
       "      <th>name</th>\n",
       "      <th>party</th>\n",
       "      <th></th>\n",
       "    </tr>\n",
       "  </thead>\n",
       "  <tbody>\n",
       "    <tr>\n",
       "      <th>Zbyněk Stanjura</th>\n",
       "      <th>ODS</th>\n",
       "      <td>130492</td>\n",
       "    </tr>\n",
       "    <tr>\n",
       "      <th>Andrej Babiš</th>\n",
       "      <th>ANO2011</th>\n",
       "      <td>82982</td>\n",
       "    </tr>\n",
       "    <tr>\n",
       "      <th>Alena Schillerová</th>\n",
       "      <th>ANO2011</th>\n",
       "      <td>70063</td>\n",
       "    </tr>\n",
       "    <tr>\n",
       "      <th>Martin Kolovratník</th>\n",
       "      <th>ANO2011</th>\n",
       "      <td>69119</td>\n",
       "    </tr>\n",
       "    <tr>\n",
       "      <th>Jakub Michálek</th>\n",
       "      <th>Piráti</th>\n",
       "      <td>66930</td>\n",
       "    </tr>\n",
       "    <tr>\n",
       "      <th>Miroslav Kalousek</th>\n",
       "      <th>TOP09</th>\n",
       "      <td>54501</td>\n",
       "    </tr>\n",
       "    <tr>\n",
       "      <th>Tomio Okamura</th>\n",
       "      <th>SPD</th>\n",
       "      <td>50087</td>\n",
       "    </tr>\n",
       "    <tr>\n",
       "      <th>Adam Vojtěch</th>\n",
       "      <th>ANO2011</th>\n",
       "      <td>49693</td>\n",
       "    </tr>\n",
       "    <tr>\n",
       "      <th>Mikuláš Ferjenčík</th>\n",
       "      <th>Piráti</th>\n",
       "      <td>49195</td>\n",
       "    </tr>\n",
       "    <tr>\n",
       "      <th>Vojtěch Munzar</th>\n",
       "      <th>ODS</th>\n",
       "      <td>45162</td>\n",
       "    </tr>\n",
       "    <tr>\n",
       "      <th>Marek Benda</th>\n",
       "      <th>ODS</th>\n",
       "      <td>44693</td>\n",
       "    </tr>\n",
       "    <tr>\n",
       "      <th>Marek Výborný</th>\n",
       "      <th>KDU-ČSL</th>\n",
       "      <td>42518</td>\n",
       "    </tr>\n",
       "    <tr>\n",
       "      <th>Jan Skopeček</th>\n",
       "      <th>ODS</th>\n",
       "      <td>39040</td>\n",
       "    </tr>\n",
       "    <tr>\n",
       "      <th>Marian Jurečka</th>\n",
       "      <th>KDU-ČSL</th>\n",
       "      <td>38991</td>\n",
       "    </tr>\n",
       "    <tr>\n",
       "      <th>Vít Kaňkovský</th>\n",
       "      <th>KDU-ČSL</th>\n",
       "      <td>34695</td>\n",
       "    </tr>\n",
       "    <tr>\n",
       "      <th>Markéta Pekarová Adamová</th>\n",
       "      <th>TOP09</th>\n",
       "      <td>34250</td>\n",
       "    </tr>\n",
       "    <tr>\n",
       "      <th>Ivan Adamec</th>\n",
       "      <th>ODS</th>\n",
       "      <td>33103</td>\n",
       "    </tr>\n",
       "    <tr>\n",
       "      <th>Věra Kovářová</th>\n",
       "      <th>STAN</th>\n",
       "      <td>32533</td>\n",
       "    </tr>\n",
       "    <tr>\n",
       "      <th>Leo Luzar</th>\n",
       "      <th>KSČM</th>\n",
       "      <td>32463</td>\n",
       "    </tr>\n",
       "    <tr>\n",
       "      <th>Vojtěch Filip</th>\n",
       "      <th>KSČM</th>\n",
       "      <td>32004</td>\n",
       "    </tr>\n",
       "  </tbody>\n",
       "</table>\n",
       "</div>"
      ],
      "text/plain": [
       "                                  tokens\n",
       "name                     party          \n",
       "Zbyněk Stanjura          ODS      130492\n",
       "Andrej Babiš             ANO2011   82982\n",
       "Alena Schillerová        ANO2011   70063\n",
       "Martin Kolovratník       ANO2011   69119\n",
       "Jakub Michálek           Piráti    66930\n",
       "Miroslav Kalousek        TOP09     54501\n",
       "Tomio Okamura            SPD       50087\n",
       "Adam Vojtěch             ANO2011   49693\n",
       "Mikuláš Ferjenčík        Piráti    49195\n",
       "Vojtěch Munzar           ODS       45162\n",
       "Marek Benda              ODS       44693\n",
       "Marek Výborný            KDU-ČSL   42518\n",
       "Jan Skopeček             ODS       39040\n",
       "Marian Jurečka           KDU-ČSL   38991\n",
       "Vít Kaňkovský            KDU-ČSL   34695\n",
       "Markéta Pekarová Adamová TOP09     34250\n",
       "Ivan Adamec              ODS       33103\n",
       "Věra Kovářová            STAN      32533\n",
       "Leo Luzar                KSČM      32463\n",
       "Vojtěch Filip            KSČM      32004"
      ]
     },
     "execution_count": 4,
     "metadata": {},
     "output_type": "execute_result"
    }
   ],
   "source": [
    "top_n = 20\n",
    "g_name_2017 = df2017.groupby([\"name\",\"party\"])\n",
    "print(\"Total number of different speakers: {}\\n\".format(len(g_name_2017)))\n",
    "\n",
    "print(\"Top {} speakers by number of tokens for 2017\".format(top_n))\n",
    "g_name_2017[[\"party\",\"tokens\"]].sum(level=0).nlargest(top_n, \"tokens\")\n"
   ]
  },
  {
   "cell_type": "code",
   "execution_count": 6,
   "metadata": {},
   "outputs": [
    {
     "data": {
      "image/png": "[encoded data removed]",
      "text/plain": [
       "<matplotlib.figure.Figure at 0x7f4b09c95a20>"
      ]
     },
     "metadata": {},
     "output_type": "display_data"
    }
   ],
   "source": [
    "matplotlib.rcParams['figure.figsize'] = [10, 5]\n",
    "\n",
    "plt.suptitle(\"Distribution of # tokens per person\")\n",
    "ax1=plt.subplot(121)\n",
    "df2013.groupby([\"name\"])[\"tokens\"].sum().hist(bins=100, ax=ax1)\n",
    "plt.title(\"2013-2107\")\n",
    "ax1=plt.subplot(122)\n",
    "df2017.groupby([\"name\"])[\"tokens\"].sum().hist(bins=100, ax=ax1)\n",
    "_ = plt.title(\"2017-\")\n"
   ]
  },
  {
   "cell_type": "code",
   "execution_count": 7,
   "metadata": {},
   "outputs": [
    {
     "data": {
      "image/png": "[encoded data removed]",
      "text/plain": [
       "<matplotlib.figure.Figure at 0x7f4b09b09a20>"
      ]
     },
     "metadata": {},
     "output_type": "display_data"
    }
   ],
   "source": [
    "plt.suptitle('Distribution of #tokens per party')\n",
    "ax1 = plt.subplot(121)\n",
    "kk=df2013.groupby([\"party\"])[\"tokens\"].sum().plot.bar(ax=ax1)\n",
    "_ = plt.title(\"2013-2017\")\n",
    "\n",
    "ax1 = plt.subplot(122)\n",
    "kk=df2017.groupby([\"party\"])[\"tokens\"].sum().plot.bar(ax=ax1)\n",
    "_ = plt.title(\"2017-\")\n",
    "\n"
   ]
  },
  {
   "cell_type": "markdown",
   "metadata": {},
   "source": [
    "Now let's count how many interventions have more than 1000 tokens"
   ]
  },
  {
   "cell_type": "code",
   "execution_count": 29,
   "metadata": {},
   "outputs": [
    {
     "name": "stdout",
     "output_type": "stream",
     "text": [
      "Long interventions (more than 1000 tokens) in 2013-2017: 171 - total tokens 192204 \n",
      "Long interventions (more than 1000 tokens) in 2017: 87 - total tokens 98206\n"
     ]
    }
   ],
   "source": [
    "limit = 1000\n",
    "long2013 = df2013[df2013[\"tokens\"] > limit][\"text\"].count()\n",
    "long2013_tokens = df2013[df2013[\"tokens\"] > limit][\"tokens\"].sum()\n",
    "long2017 = df2017[df2017[\"tokens\"] > limit][\"text\"].count()\n",
    "long2017_tokens = df2017[df2017[\"tokens\"] > limit][\"tokens\"].sum()\n",
    "print(f\"Long interventions (more than {limit} tokens) in 2013-2017: {long2013} - total tokens {long2013_tokens} \")\n",
    "print(f\"Long interventions (more than {limit} tokens) in 2017: {long2017} - total tokens {long2017_tokens}\")\n"
   ]
  },
  {
   "cell_type": "markdown",
   "metadata": {},
   "source": [
    "Finally we can aggregate the tokens per speaker per session and check the number of tokens we obtain considering only those speakers that have an aggregated number of tokens per session over 1000"
   ]
  },
  {
   "cell_type": "code",
   "execution_count": 58,
   "metadata": {},
   "outputs": [
    {
     "name": "stdout",
     "output_type": "stream",
     "text": [
      "Long aggregated interventions (more than 1000 tokens) in 2013-2017: 189 - total tokens 225930\n",
      "Long aggregated interventions (more than 1000 tokens) in 2017: 776 - total tokens 2035439\n"
     ]
    }
   ],
   "source": [
    "limit = 1000\n",
    "grp2013 = df2013.groupby(by=[\"name\", \"session\", \"text\"])\n",
    "grp2017 = df2017.groupby(by=[\"name\", \"session\"])\n",
    "long2013 = grp2013[\"tokens\"].sum()[ grp2013[\"tokens\"].sum() > limit ].count()\n",
    "long2013_tokens = grp2013[\"tokens\"].sum()[ grp2013[\"tokens\"].sum() > limit].sum()\n",
    "long2017 = grp2017[\"tokens\"].sum()[ grp2017[\"tokens\"].sum() > limit].count()\n",
    "long2017_tokens = grp2017[\"tokens\"].sum()[ grp2017[\"tokens\"].sum() > limit].sum()\n",
    "print(f\"Long aggregated interventions (more than {limit} tokens) in 2013-2017: {long2013} - total tokens {long2013_tokens}\")\n",
    "print(f\"Long aggregated interventions (more than {limit} tokens) in 2017: {long2017} - total tokens {long2017_tokens}\")\n"
   ]
  }
 ],
 "metadata": {
  "kernelspec": {
   "display_name": "Python 3",
   "language": "python",
   "name": "python3"
  },
  "language_info": {
   "codemirror_mode": {
    "name": "ipython",
    "version": 3
   },
   "file_extension": ".py",
   "mimetype": "text/x-python",
   "name": "python",
   "nbconvert_exporter": "python",
   "pygments_lexer": "ipython3",
   "version": "3.6.8"
  }
 },
 "nbformat": 4,
 "nbformat_minor": 2
}
