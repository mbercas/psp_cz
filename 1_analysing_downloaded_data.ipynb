{
 "cells": [
  {
   "cell_type": "markdown",
   "metadata": {
    "ein.tags": "worksheet-0",
    "slideshow": {
     "slide_type": "-"
    }
   },
   "source": [
    "y# Analyzing the downloaded data\n",
    "\n",
    "## Assumptions\n",
    "\n",
    "You have used the `download_stenos.py` and `generate_pandas.py` to download the steno protocols and save them into a compressed pickle.\n",
    "\n",
    "I have them under ./data/ folder, you will have to adjust the paths accordingly to your storage location."
   ]
  },
  {
   "cell_type": "code",
   "execution_count": 1,
   "metadata": {
    "autoscroll": false,
    "collapsed": false,
    "ein.hycell": false,
    "ein.tags": "worksheet-0",
    "slideshow": {
     "slide_type": "-"
    }
   },
   "outputs": [
    {
     "name": "stdout",
     "output_type": "stream",
     "text": [
      "Pandas version: 1.0.5\n"
     ]
    },
    {
     "data": {
      "text/plain": [
       "Index(['session', 'date', 'topic_idx', 'topic_str', 'order', 'name',\n",
       "       'steno_name', 'file_name', 'tokens', 'birthyear', 'age', 'sex',\n",
       "       'titles', 'party', 'text'],\n",
       "      dtype='object')"
      ]
     },
     "execution_count": 1,
     "metadata": {},
     "output_type": "execute_result"
    }
   ],
   "source": [
    "%matplotlib inline\n",
    "\n",
    "import pandas as pd\n",
    "import matplotlib\n",
    "import matplotlib.pyplot as plt\n",
    "\n",
    "df1993 = pd.read_csv('./data/psp1993_1996.tsv.xz', sep='\\t', header=0, encoding='utf-8', compression='xz')\n",
    "df1996 = pd.read_csv('./data/psp1996_1998.tsv.xz', sep='\\t', header=0, encoding='utf-8', compression='xz')\n",
    "df1998 = pd.read_csv('./data/psp1998_2002.tsv.xz', sep='\\t', header=0, encoding='utf-8', compression='xz')\n",
    "df2002 = pd.read_csv('./data/psp2002_2006.tsv.xz', sep='\\t', header=0, encoding='utf-8', compression='xz')\n",
    "df2006 = pd.read_csv('./data/psp2006_2010.tsv.xz', sep='\\t', header=0, encoding='utf-8', compression='xz')\n",
    "df2010 = pd.read_csv('./data/psp2010_2013.tsv.xz', sep='\\t', header=0, encoding='utf-8', compression='xz')\n",
    "df2017 = pd.read_csv('./data/psp2017_2021.tsv.xz', sep='\\t', header=0, encoding='utf-8', compression='xz')\n",
    "df2013 = pd.read_csv('./data/psp2013_2017.tsv.xz', sep='\\t', header=0, encoding='utf-8', compression='xz')\n",
    "\n",
    "print(\"Pandas version: {}\".format(pd.__version__))\n",
    "\n",
    "df2017.columns"
   ]
  },
  {
   "cell_type": "markdown",
   "metadata": {
    "ein.tags": "worksheet-0",
    "slideshow": {
     "slide_type": "-"
    }
   },
   "source": [
    "The data frame contains interventions in each two and the following columns:\n",
    "   \n",
    "   - 'session', 'date', 'topic_idx', 'topic_str', 'order', \n",
    "     The session, the date of the session, the topic being discussed, and the order of intervention for the session\n",
    "   \n",
    "   - 'name','steno_name', \n",
    "     The name of the speacker and the string that appears in the steno protocol\n",
    "   \n",
    "       - 'age', 'sex', 'titles','party', 'birthday'\n",
    "       Information about the speaker; `age is the age at the time of the last steno of the dataset`\n",
    "   \n",
    "   - 'file_name', 'text', \n",
    "     The file name that contains the information, and the text in the filed\n",
    "   \n",
    "   - 'tokens', \n",
    "     The number of tokens on the unfiltered file\n",
    "\n",
    "\n",
    "We have loaded all the stenos and metadata from the sessions between 1993 and 2020.\n",
    "\n",
    "Let's do a sanity check and veorify that there are no dupplicates in the text field (i.e. same content downloaded in two differnt files)"
   ]
  },
  {
   "cell_type": "code",
   "execution_count": 2,
   "metadata": {
    "autoscroll": false,
    "collapsed": false,
    "ein.hycell": false,
    "ein.tags": "worksheet-0",
    "slideshow": {
     "slide_type": "-"
    }
   },
   "outputs": [
    {
     "name": "stdout",
     "output_type": "stream",
     "text": [
      "WARNING: found 6 dupplicates in data set df1993\n",
      "          Correcting...\n",
      "  0 dupplicates in data set df1993 after correction\n",
      "No dupplicates in data set df1996\n"
     ]
    },
    {
     "name": "stdout",
     "output_type": "stream",
     "text": [
      "WARNING: found 12 dupplicates in data set df1998\n",
      "          Correcting...\n",
      "  0 dupplicates in data set df1998 after correction\n"
     ]
    },
    {
     "name": "stdout",
     "output_type": "stream",
     "text": [
      "WARNING: found 2 dupplicates in data set df2002\n",
      "          Correcting...\n",
      "  0 dupplicates in data set df2002 after correction\n"
     ]
    },
    {
     "name": "stdout",
     "output_type": "stream",
     "text": [
      "WARNING: found 1 dupplicates in data set df2006\n",
      "          Correcting...\n",
      "  0 dupplicates in data set df2006 after correction\n",
      "No dupplicates in data set df2010\n"
     ]
    },
    {
     "name": "stdout",
     "output_type": "stream",
     "text": [
      "No dupplicates in data set df2013\n",
      "WARNING: found 1 dupplicates in data set df2017\n",
      "          Correcting...\n"
     ]
    },
    {
     "name": "stdout",
     "output_type": "stream",
     "text": [
      "  0 dupplicates in data set df2017 after correction\n"
     ]
    }
   ],
   "source": [
    "\n",
    "dfs = [(df1993,'df1993'), (df1996,'df1996'),q (df1998,'df1998'),\n",
    "       (df2002,'df2002'), (df2006,'df2006'), (df2010,'df2010'),\n",
    "       (df2013,'df2013'), (df2017,'df2017') ]\n",
    "\n",
    "for df, df_name in dfs:\n",
    "    dup_count = df.duplicated([\"session\", \"topic_idx\", \"text\"]).sum()\n",
    "    if dup_count > 0:\n",
    "        print(f\"WARNING: found {dup_count} dupplicates in data set {df_name}\")\n",
    "        print(\"          Correcting...\")\n",
    "        df = df.drop_duplicates([\"session\", \"topic_idx\", \"text\"], keep='first')\n",
    "        dup_count = df.duplicated([\"session\", \"topic_idx\", \"text\"]).sum()\n",
    "        print(f\"  {dup_count} dupplicates in data set {df_name} after correction\")\n",
    "    else:\n",
    "        print(f\"No dupplicates in data set {df_name}\")\n"
   ]
  },
  {
   "cell_type": "code",
   "execution_count": 4,
   "metadata": {
    "autoscroll": false,
    "collapsed": false,
    "ein.hycell": false,
    "ein.tags": "worksheet-0",
    "slideshow": {
     "slide_type": "-"
    }
   },
   "outputs": [
    {
     "name": "stdout",
     "output_type": "stream",
     "text": [
      "df1993\n",
      "\tTotal files:  11249\n",
      "\tTotal tokens: 2537473\n",
      "df1996\n",
      "\tTotal files:  11612\n",
      "\tTotal tokens: 2549958\n",
      "df1998\n",
      "\tTotal files:  26566\n",
      "\tTotal tokens: 4557336\n",
      "df2002\n",
      "\tTotal files:  26060\n",
      "\tTotal tokens: 4609035\n",
      "df2006\n",
      "\tTotal files:  19377\n",
      "\tTotal tokens: 3696899\n",
      "df2010\n",
      "\tTotal files:  16559\n",
      "\tTotal tokens: 3274592\n",
      "df2013\n",
      "\tTotal files:  31339\n",
      "\tTotal tokens: 6179046\n",
      "df2017\n",
      "\tTotal files:  23992\n",
      "\tTotal tokens: 4969652\n",
      "Total number of files in 8 datasets = 166754\n",
      "Total number of tokens in 8 datasets = 32373991\n"
     ]
    }
   ],
   "source": [
    "total_files = 0\n",
    "total_tokens = 0\n",
    "for df, df_name in dfs:\n",
    "    print(f\"{df_name}\")\n",
    "    print(f\"\\tTotal files:  {df['tokens'].count()}\")\n",
    "    print(f\"\\tTotal tokens: {df['tokens'].sum()}\")\n",
    "    total_files += df['tokens'].count()\n",
    "    total_tokens += df['tokens'].sum()\n",
    "\n",
    "print(f\"Total number of files in {len(dfs)} datasets = {total_files}\")\n",
    "print(f\"Total number of tokens in {len(dfs)} datasets = {total_tokens}\")\n",
    "\n"
   ]
  },
  {
   "cell_type": "markdown",
   "metadata": {
    "ein.tags": "worksheet-0",
    "slideshow": {
     "slide_type": "-"
    }
   },
   "source": [
    "We can see who are the people that have more tokens, for that we will group the data frame by `name` and sum the tokens. Finally we can take the 10 largest."
   ]
  },
  {
   "cell_type": "code",
   "execution_count": 5,
   "metadata": {
    "autoscroll": false,
    "collapsed": false,
    "ein.hycell": false,
    "ein.tags": "worksheet-0",
    "slideshow": {
     "slide_type": "-"
    }
   },
   "outputs": [
    {
     "name": "stdout",
     "output_type": "stream",
     "text": [
      "\n",
      "df1993:\n",
      "\tTotal number of different speakers: 225\n",
      "\tTop 10 speakers by number of tokens for df1993\n",
      "\n",
      "                          tokens\n",
      "name             party          \n",
      "Ivan Kočárník    ODS       85700\n",
      "Jozef Wagner     ČSSD      83429\n",
      "Milan Uhde       ODS       64409\n",
      "Zdeněk Vorlíček  KSČM      47964\n",
      "Miloslav Výborný KDU-ČSL   44838\n",
      "Jan Ruml         ODS       43601\n",
      "Jiří Vlach       ODS       38129\n",
      "Jiří Vyvadil     ČSSD      38071\n",
      "Jiří Novák       ODS       37056\n",
      "Gerta Mazalová   HSD-SMS   36897\n",
      "\n",
      "df1996:\n",
      "\tTotal number of different speakers: 226\n",
      "\tTop 10 speakers by number of tokens for df1996\n",
      "\n",
      "                           tokens\n",
      "name              party          \n",
      "Zdeněk Jičínský   ČSSD      73436\n",
      "Václav Klaus      ODS       68518\n",
      "Vojtěch Filip     KSČM      63783\n",
      "Miroslav Sládek   SPR-RSČ   60726\n",
      "Josef Krejsa      SPR-RSČ   55629\n",
      "Jozef Wagner      NOPARTY   54388\n",
      "Ivan Pilip        ODS       50824\n",
      "Miloš Zeman       ČSSD      49400\n",
      "Zdeněk Krampera   SPR-RSČ   44652\n",
      "Miloslav Ransdorf KSČM      44164\n",
      "\n",
      "df1998:\n",
      "\tTotal number of different speakers: 286\n",
      "\tTop 10 speakers by number of tokens for df1998\n",
      "\n",
      "                        tokens\n",
      "name             party        \n",
      "Stanislav Gross  ČSSD   147924\n",
      "Vojtěch Filip    KSČM   117275\n",
      "Ivan Langer      ODS    109515\n",
      "Pavel Mertlík    ČSSD   104906\n",
      "Miloš Zeman      ČSSD    94465\n",
      "Vladimír Špidla  ČSSD    92586\n",
      "Vlastimil Tlustý ODS     84178\n",
      "Petra Buzková    ČSSD    77285\n",
      "Jiří Payne       ODS     73252\n",
      "Zdeněk Jičínský  ODS     71585\n",
      "\n",
      "df2002:\n",
      "\tTotal number of different speakers: 240\n",
      "\tTop 10 speakers by number of tokens for df2002\n",
      "\n",
      "                          tokens\n",
      "name             party          \n",
      "Bohuslav Sobotka ČSSD     163619\n",
      "Ivan Langer      ODS      117486\n",
      "Stanislav Gross  ČSSD     115287\n",
      "Zdeněk Škromach  ČSSD     110287\n",
      "Vojtěch Filip    KSČM      92332\n",
      "Eva Dundáčková   ODS       84006\n",
      "Lubomír Zaorálek ČSSD      82385\n",
      "Karel Vymětal    KSČM      79738\n",
      "Josef Janeček    KDU-ČSL   79135\n",
      "Vladimír Špidla  ČSSD      77342\n",
      "\n",
      "df2006:\n",
      "\tTotal number of different speakers: 263\n",
      "\tTop 10 speakers by number of tokens for df2006\n",
      "\n",
      "                           tokens\n",
      "name              party          \n",
      "Mirek Topolánek   ODS      150825\n",
      "Bohuslav Sobotka  ČSSD     126911\n",
      "Miroslav Kalousek KDU-ČSL  106601\n",
      "Lubomír Zaorálek  ČSSD     105226\n",
      "David Rath        ČSSD     102010\n",
      "Petr Nečas        ODS       92661\n",
      "Martin Bursík     SZ        85143\n",
      "Vojtěch Filip     KSČM      76192\n",
      "Zdeněk Jičínský   ODS       75441\n",
      "Jiří Pospíšil     ODS       63949\n",
      "\n",
      "df2010:\n",
      "\tTotal number of different speakers: 280\n",
      "\tTop 10 speakers by number of tokens for df2010\n",
      "\n",
      "                         tokens\n",
      "name              party        \n",
      "Petr Nečas        ODS    120549\n",
      "Bohuslav Sobotka  ČSSD   112036\n",
      "Miroslav Kalousek TOP09  108078\n",
      "Lubomír Zaorálek  ČSSD   107336\n",
      "Jiří Paroubek     ČSSD    94977\n",
      "Jeroným Tejc      ČSSD    83728\n",
      "Jaromír Drábek    TOP09   70643\n",
      "Jiří Pospíšil     ODS     66154\n",
      "Leoš Heger        TOP09   65560\n",
      "Antonín Seďa      ČSSD    57824\n",
      "\n",
      "df2013:\n"
     ]
    },
    {
     "name": "stdout",
     "output_type": "stream",
     "text": [
      "\tTotal number of different speakers: 290\n",
      "\tTop 10 speakers by number of tokens for df2013\n",
      "\n",
      "                           tokens\n",
      "name              party          \n",
      "Zbyněk Stanjura   ODS      424188\n",
      "Bohuslav Sobotka  ČSSD     276262\n",
      "Miroslav Kalousek TOP09    211000\n",
      "Petr Bendl        ODS      147775\n",
      "František Laudát  TOP09    129337\n",
      "Andrej Babiš      ANO2011  124392\n",
      "Ludvík Hovorka    KDU-ČSL  106155\n",
      "Vojtěch Filip     KSČM     101538\n",
      "Michal Kučera     TOP09     98308\n",
      "Karel Fiedler     Úsvit     91498\n",
      "\n",
      "df2017:\n",
      "\tTotal number of different speakers: 290\n",
      "\tTop 10 speakers by number of tokens for df2017\n",
      "\n",
      "                           tokens\n",
      "name              party          \n",
      "Zbyněk Stanjura   ODS      201719\n",
      "Alena Schillerová ANO2011  161772\n",
      "Andrej Babiš      ANO2011  140965\n",
      "Tomio Okamura     SPD      109937\n",
      "Jakub Michálek    Piráti   102547\n",
      "Miroslav Kalousek TOP09     93451\n",
      "Mikuláš Ferjenčík Piráti    93004\n",
      "Vojtěch Munzar    ODS       92717\n",
      "Adam Vojtěch      ANO2011   91717\n",
      "Marian Jurečka    KDU-ČSL   90408\n"
     ]
    }
   ],
   "source": [
    "top_n = 10\n",
    "\n",
    "for df, df_name in dfs:\n",
    "    g_name = df.groupby([\"name\",\"party\"])\n",
    "    print(f\"\\n{df_name}:\")\n",
    "    print(f\"\\tTotal number of different speakers: {len(g_name)}\")\n",
    "    print(f\"\\tTop {top_n} speakers by number of tokens for {df_name}\\n\")\n",
    "    print(g_name[[\"party\",\"tokens\"]].sum().nlargest(top_n, \"tokens\"))"
   ]
  },
  {
   "cell_type": "code",
   "execution_count": 6,
   "metadata": {
    "autoscroll": false,
    "collapsed": false,
    "ein.hycell": false,
    "ein.tags": "worksheet-0",
    "slideshow": {
     "slide_type": "-"
    }
   },
   "outputs": [
    {
     "data": {
      "image/png": "[encoded data removed]",
      "text/plain": [
       "<Figure size 1008x720 with 8 Axes>"
      ]
     },
     "metadata": {},
     "output_type": "display_data"
    }
   ],
   "source": [
    "matplotlib.rcParams['figure.figsize'] = [14, 10]\n",
    "\n",
    "cols = 3\n",
    "rows = len(dfs)//3\n",
    "if len(dfs)%3: \n",
    "    rows += 1\n",
    "\n",
    "plt.suptitle(\"Distribution of # tokens per person\")\n",
    "idx = 1\n",
    "for df, df_name in dfs:\n",
    "    \n",
    "\n",
    "    ax1=plt.subplot(rows, cols, idx)\n",
    "    df.groupby([\"name\"])[\"tokens\"].sum().hist(bins=100, ax=ax1)\n",
    "    plt.title(f\"{df_name}\")\n",
    "    if idx%3 == 1:\n",
    "        plt.ylabel(\"# persons\")\n",
    "    plt.xlabel('# tokens')\n",
    "    idx += 1\n",
    "\n",
    "plt.subplots_adjust(hspace=0.4, wspace=0.1)\n"
   ]
  },
  {
   "cell_type": "code",
   "execution_count": 7,
   "metadata": {
    "autoscroll": false,
    "collapsed": false,
    "ein.hycell": false,
    "ein.tags": "worksheet-0",
    "slideshow": {
     "slide_type": "-"
    }
   },
   "outputs": [
    {
     "data": {
      "image/png": "[encoded data removed]",
      "text/plain": [
       "<Figure size 1008x720 with 8 Axes>"
      ]
     },
     "metadata": {},
     "output_type": "display_data"
    }
   ],
   "source": [
    "\n",
    "matplotlib.rcParams['figure.figsize'] = [14, 10]\n",
    "cols = 3\n",
    "rows = len(dfs)//3\n",
    "if len(dfs)%3: \n",
    "    rows += 1\n",
    "plt.suptitle('Distribution of #tokens per party')\n",
    "\n",
    "idx = 1\n",
    "for df, df_name in dfs:\n",
    "    \n",
    "\n",
    "    ax1=plt.subplot(rows, cols, idx)\n",
    "    kk=df.groupby([\"party\"])[\"tokens\"].sum().plot.bar(ax=ax1)\n",
    "    plt.ylabel(\"# tokens\")\n",
    "    _ = plt.title(f\"{df_name}\")\n",
    "    idx += 1\n",
    "plt.subplots_adjust(hspace=0.8, wspace=0.3)\n"
   ]
  },
  {
   "cell_type": "markdown",
   "metadata": {
    "ein.tags": "worksheet-0",
    "slideshow": {
     "slide_type": "-"
    }
   },
   "source": [
    "For our analysis model we need relatively long speaches, we will consider only speeches longer than 500 tokens.\n",
    "\n",
    "Now let's count how many interventions have more than 1000 tokens"
   ]
  },
  {
   "cell_type": "code",
   "execution_count": 8,
   "metadata": {
    "autoscroll": false,
    "collapsed": false,
    "ein.hycell": false,
    "ein.tags": "worksheet-0",
    "slideshow": {
     "slide_type": "-"
    }
   },
   "outputs": [
    {
     "name": "stdout",
     "output_type": "stream",
     "text": [
      "df1993:\n",
      "Long interventions (more than 500 tokens) in df1993: 1359 - total tokens 1222912 \n",
      "df1996:\n",
      "Long interventions (more than 500 tokens) in df1996: 1325 - total tokens 1214233 \n",
      "df1998:\n",
      "Long interventions (more than 500 tokens) in df1998: 1764 - total tokens 1203567 \n",
      "df2002:\n",
      "Long interventions (more than 500 tokens) in df2002: 1818 - total tokens 1243758 \n",
      "df2006:\n",
      "Long interventions (more than 500 tokens) in df2006: 1595 - total tokens 1119608 \n",
      "df2010:\n",
      "Long interventions (more than 500 tokens) in df2010: 1507 - total tokens 1063581 \n",
      "df2013:\n",
      "Long interventions (more than 500 tokens) in df2013: 2306 - total tokens 1630394 \n",
      "df2017:\n",
      "Long interventions (more than 500 tokens) in df2017: 1986 - total tokens 1419465 \n"
     ]
    }
   ],
   "source": [
    "limit = 500\n",
    "\n",
    "for df, df_name in dfs:\n",
    "    longdf = df[df[\"tokens\"] > limit][\"text\"].count()\n",
    "    longdf_tokens = df[df[\"tokens\"] > limit][\"tokens\"].sum()\n",
    "    print(f\"{df_name}:\")\n",
    "    print(f\"Long interventions (more than {limit} tokens) in {df_name}: {longdf} - total tokens {longdf_tokens} \")\n"
   ]
  },
  {
   "cell_type": "markdown",
   "metadata": {
    "ein.tags": "worksheet-0",
    "slideshow": {
     "slide_type": "-"
    }
   },
   "source": [
    "If we consider only speeches of 500 tokens we don't end up with a lot of data, let's agregate per speaker per session and topic and check the number of tokens we obtain considering only those speakers that have an aggregated number of tokens per session over 500"
   ]
  },
  {
   "cell_type": "code",
   "execution_count": 9,
   "metadata": {
    "autoscroll": false,
    "collapsed": false,
    "ein.hycell": false,
    "ein.tags": "worksheet-0",
    "slideshow": {
     "slide_type": "-"
    }
   },
   "outputs": [
    {
     "name": "stdout",
     "output_type": "stream",
     "text": [
      "df1993:\n",
      "Long interventions (more than 500 tokens) in df1993: 1578 - total tokens 1586562 \n",
      "df1996:\n",
      "Long interventions (more than 500 tokens) in df1996: 1550 - total tokens 1637000 \n",
      "df1998:\n",
      "Long interventions (more than 500 tokens) in df1998: 2454 - total tokens 1988044 \n",
      "df2002:\n",
      "Long interventions (more than 500 tokens) in df2002: 2624 - total tokens 2212331 \n",
      "df2006:\n",
      "Long interventions (more than 500 tokens) in df2006: 2165 - total tokens 2079390 \n",
      "df2010:\n",
      "Long interventions (more than 500 tokens) in df2010: 2002 - total tokens 1850575 \n",
      "df2013:\n",
      "Long interventions (more than 500 tokens) in df2013: 3668 - total tokens 3616132 \n",
      "df2017:\n",
      "Long interventions (more than 500 tokens) in df2017: 3119 - total tokens 3036712 \n",
      "Total files: 19160\n",
      "Total tokens: 18006746\n"
     ]
    }
   ],
   "source": [
    "\n",
    "limit = 500\n",
    "\n",
    "cum_files = 0\n",
    "cum_tokens = 0\n",
    "for df, df_name in dfs:\n",
    "    grp = df.groupby(by=[\"name\", \"session\", \"topic_idx\"])\n",
    "    longdf = grp[\"tokens\"].sum()[ grp[\"tokens\"].sum() > limit ].count()\n",
    "    longdf_tokens = grp[\"tokens\"].sum()[ grp[\"tokens\"].sum() > limit].sum()\n",
    "\n",
    "    cum_files += longdf\n",
    "    cum_tokens += longdf_tokens \n",
    "\n",
    "    print(f\"{df_name}:\")\n",
    "    print(f\"Long interventions (more than {limit} tokens) in {df_name}: {longdf} - total tokens {longdf_tokens} \")\n",
    "\n",
    "print(f\"Total files: {cum_files}\")\n",
    "print(f\"Total tokens: {cum_tokens}\")\n",
    "\n"
   ]
  },
  {
   "cell_type": "code",
   "execution_count": 10,
   "metadata": {
    "autoscroll": false,
    "collapsed": false,
    "ein.hycell": false,
    "ein.tags": "worksheet-0",
    "slideshow": {
     "slide_type": "-"
    }
   },
   "outputs": [
    {
     "data": {
      "text/plain": [
       "Text(0.5, 1.0, 'Tokens per speech in 2017-')"
      ]
     },
     "execution_count": 10,
     "metadata": {},
     "output_type": "execute_result"
    },
    {
     "data": {
      "image/png": "[encoded data removed]",
      "text/plain": [
       "<Figure size 1008x720 with 1 Axes>"
      ]
     },
     "metadata": {},
     "output_type": "display_data"
    }
   ],
   "source": [
    "# Create a groupby object and then build a data frame with sum of tokens and appended strings, group by more fields if required\n",
    "g2017 = df2017.groupby(['session', 'topic_idx', 'name'])\n",
    "df2017agg = pd.merge(g2017['tokens'].sum(), g2017['text'].sum(), left_index=True, right_index=True).reset_index()\n",
    "_ = plt.hist(df2017agg['tokens'], bins=200, alpha=0.75)\n",
    "plt.grid()\n",
    "plt.ylabel(\"# of speeches\")\n",
    "plt.xlabel('# of tokens')\n",
    "plt.title('Tokens per speech in 2017-')"
   ]
  },
  {
   "cell_type": "code",
   "execution_count": 21,
   "metadata": {
    "autoscroll": false,
    "collapsed": false,
    "ein.hycell": false,
    "ein.tags": "worksheet-0",
    "slideshow": {
     "slide_type": "-"
    }
   },
   "outputs": [
    {
     "data": {
      "text/html": [
       "<div>\n",
       "<style scoped>\n",
       "    .dataframe tbody tr th:only-of-type {\n",
       "        vertical-align: middle;\n",
       "    }\n",
       "\n",
       "    .dataframe tbody tr th {\n",
       "        vertical-align: top;\n",
       "    }\n",
       "\n",
       "    .dataframe thead th {\n",
       "        text-align: right;\n",
       "    }\n",
       "</style>\n",
       "<table border=\"1\" class=\"dataframe\">\n",
       "  <thead>\n",
       "    <tr style=\"text-align: right;\">\n",
       "      <th></th>\n",
       "      <th>session</th>\n",
       "      <th>topic_idx</th>\n",
       "      <th>name</th>\n",
       "      <th>tokens</th>\n",
       "      <th>text</th>\n",
       "    </tr>\n",
       "  </thead>\n",
       "  <tbody>\n",
       "    <tr>\n",
       "      <th>10</th>\n",
       "      <td>1</td>\n",
       "      <td>4</td>\n",
       "      <td>Martin Kolovratník</td>\n",
       "      <td>534</td>\n",
       "      <td>Děkuji za slovo. Kolegyně, kolegové, mě mrzí, ...</td>\n",
       "    </tr>\n",
       "    <tr>\n",
       "      <th>12</th>\n",
       "      <td>1</td>\n",
       "      <td>4</td>\n",
       "      <td>Miroslava Němcová</td>\n",
       "      <td>584</td>\n",
       "      <td>Děkuji za slovo, vážený pane řídící schůze. Vá...</td>\n",
       "    </tr>\n",
       "    <tr>\n",
       "      <th>13</th>\n",
       "      <td>1</td>\n",
       "      <td>4</td>\n",
       "      <td>Pavel Bělobrádek</td>\n",
       "      <td>502</td>\n",
       "      <td>Vážený pane předsedající, kolegyně, kolegové, ...</td>\n",
       "    </tr>\n",
       "    <tr>\n",
       "      <th>22</th>\n",
       "      <td>1</td>\n",
       "      <td>4</td>\n",
       "      <td>Zbyněk Stanjura</td>\n",
       "      <td>920</td>\n",
       "      <td>Hezké odpoledne, vážený pane předsedající, váž...</td>\n",
       "    </tr>\n",
       "    <tr>\n",
       "      <th>26</th>\n",
       "      <td>1</td>\n",
       "      <td>5</td>\n",
       "      <td>Martin Kolovratník</td>\n",
       "      <td>888</td>\n",
       "      <td>Pane předsedající, děkuji za slovo. Avizuji ko...</td>\n",
       "    </tr>\n",
       "    <tr>\n",
       "      <th>...</th>\n",
       "      <td>...</td>\n",
       "      <td>...</td>\n",
       "      <td>...</td>\n",
       "      <td>...</td>\n",
       "      <td>...</td>\n",
       "    </tr>\n",
       "    <tr>\n",
       "      <th>7979</th>\n",
       "      <td>39</td>\n",
       "      <td>295</td>\n",
       "      <td>Klára Dostálová</td>\n",
       "      <td>575</td>\n",
       "      <td>Vážení kolegové, kolegyně, děkuji. Velmi mě mr...</td>\n",
       "    </tr>\n",
       "    <tr>\n",
       "      <th>7984</th>\n",
       "      <td>39</td>\n",
       "      <td>295</td>\n",
       "      <td>Miroslav Kalousek</td>\n",
       "      <td>672</td>\n",
       "      <td>Děkuji za slovo. Dvě poznámky k řečem předřečn...</td>\n",
       "    </tr>\n",
       "    <tr>\n",
       "      <th>7987</th>\n",
       "      <td>39</td>\n",
       "      <td>295</td>\n",
       "      <td>Pavel Plzák</td>\n",
       "      <td>516</td>\n",
       "      <td>Děkuji za slovo, pane předsedající, dobré dopo...</td>\n",
       "    </tr>\n",
       "    <tr>\n",
       "      <th>7993</th>\n",
       "      <td>39</td>\n",
       "      <td>295</td>\n",
       "      <td>Vojtěch Filip</td>\n",
       "      <td>558</td>\n",
       "      <td>Děkuji. Vážený pane předsedající, členové vlád...</td>\n",
       "    </tr>\n",
       "    <tr>\n",
       "      <th>7995</th>\n",
       "      <td>39</td>\n",
       "      <td>295</td>\n",
       "      <td>Zbyněk Stanjura</td>\n",
       "      <td>1119</td>\n",
       "      <td>Já se omlouvám, ale podle mě musíme nazývat vě...</td>\n",
       "    </tr>\n",
       "  </tbody>\n",
       "</table>\n",
       "<p>1917 rows × 5 columns</p>\n",
       "</div>"
      ],
      "text/plain": [
       "      session  topic_idx                name  tokens  \\\n",
       "10          1          4  Martin Kolovratník     534   \n",
       "12          1          4   Miroslava Němcová     584   \n",
       "13          1          4    Pavel Bělobrádek     502   \n",
       "22          1          4     Zbyněk Stanjura     920   \n",
       "26          1          5  Martin Kolovratník     888   \n",
       "...       ...        ...                 ...     ...   \n",
       "7979       39        295     Klára Dostálová     575   \n",
       "7984       39        295   Miroslav Kalousek     672   \n",
       "7987       39        295         Pavel Plzák     516   \n",
       "7993       39        295       Vojtěch Filip     558   \n",
       "7995       39        295     Zbyněk Stanjura    1119   \n",
       "\n",
       "                                                   text  \n",
       "10    Děkuji za slovo. Kolegyně, kolegové, mě mrzí, ...  \n",
       "12    Děkuji za slovo, vážený pane řídící schůze. Vá...  \n",
       "13    Vážený pane předsedající, kolegyně, kolegové, ...  \n",
       "22    Hezké odpoledne, vážený pane předsedající, váž...  \n",
       "26    Pane předsedající, děkuji za slovo. Avizuji ko...  \n",
       "...                                                 ...  \n",
       "7979  Vážení kolegové, kolegyně, děkuji. Velmi mě mr...  \n",
       "7984  Děkuji za slovo. Dvě poznámky k řečem předřečn...  \n",
       "7987  Děkuji za slovo, pane předsedající, dobré dopo...  \n",
       "7993  Děkuji. Vážený pane předsedající, členové vlád...  \n",
       "7995  Já se omlouvám, ale podle mě musíme nazývat vě...  \n",
       "\n",
       "[1917 rows x 5 columns]"
      ]
     },
     "execution_count": 21,
     "metadata": {},
     "output_type": "execute_result"
    }
   ],
   "source": [
    "df2017agg[df2017agg['tokens']>limit]"
   ]
  },
  {
   "cell_type": "code",
   "execution_count": null,
   "metadata": {
    "autoscroll": false,
    "collapsed": false,
    "ein.hycell": false,
    "ein.tags": "worksheet-0",
    "slideshow": {
     "slide_type": "-"
    }
   },
   "outputs": [],
   "source": []
  }
 ],
 "metadata": {
  "kernelspec": {
   "argv": [
    "/usr/bin/python3",
    "-m",
    "ipykernel_launcher",
    "-f",
    "{connection_file}"
   ],
   "display_name": "Python 3",
   "env": null,
   "interrupt_mode": "signal",
   "language": "python",
   "metadata": null,
   "name": "python3"
  },
  "language_info": {
   "codemirror_mode": {
    "name": "ipython",
    "version": 3
   },
   "file_extension": ".py",
   "mimetype": "text/x-python",
   "name": "python",
   "nbconvert_exporter": "python",
   "pygments_lexer": "ipython3",
   "version": "3.6.8"
  },
  "name": "1_analysing_downloaded_data.ipynb"
 },
 "nbformat": 4,
 "nbformat_minor": 2
}
