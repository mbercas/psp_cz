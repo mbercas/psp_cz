{
 "cells": [
  {
   "cell_type": "markdown",
   "metadata": {
    "ein.tags": "worksheet-0",
    "slideshow": {
     "slide_type": "-"
    }
   },
   "source": [
    "# Analyzing the downloaded data\n",
    "\n",
    "## Assumptions\n",
    "\n",
    "You have used the `download_stenos.py` and `generate_pandas.py` to download the steno protocols and save them into a compressed pickle.\n",
    "\n",
    "I have them under ./data/ folder, you will have to adjust the paths accordingly to your storage location."
   ]
  },
  {
   "cell_type": "code",
   "execution_count": 2,
   "metadata": {
    "autoscroll": false,
    "collapsed": false,
    "ein.hycell": false,
    "ein.tags": "worksheet-0",
    "slideshow": {
     "slide_type": "-"
    }
   },
   "outputs": [
    {
     "name": "stdout",
     "output_type": "stream",
     "text": [
      "Pandas version: 1.0.5\n"
     ]
    },
    {
     "data": {
      "text/plain": [
       "Index(['session', 'date', 'topic_idx', 'topic_str', 'order', 'name',\n       'steno_name', 'file_name', 'tokens', 'birthyear', 'age', 'sex',\n       'titles', 'party', 'text'],\n      dtype='object')"
      ]
     },
     "execution_count": 2,
     "metadata": {},
     "output_type": "execute_result"
    }
   ],
   "source": [
    "%matplotlib inline\n",
    "\n",
    "import pandas as pd\n",
    "import matplotlib\n",
    "import matplotlib.pyplot as plt\n",
    "\n",
    "df1993 = pd.read_csv('./data/psp1993_1996.tsv.xz', sep='\\t', header=0, encoding='utf-8', compression='xz')\n",
    "df1996 = pd.read_csv('./data/psp1996_1998.tsv.xz', sep='\\t', header=0, encoding='utf-8', compression='xz')\n",
    "df1998 = pd.read_csv('./data/psp1998_2002.tsv.xz', sep='\\t', header=0, encoding='utf-8', compression='xz')\n",
    "df2002 = pd.read_csv('./data/psp2002_2006.tsv.xz', sep='\\t', header=0, encoding='utf-8', compression='xz')\n",
    "df2006 = pd.read_csv('./data/psp2006_2010.tsv.xz', sep='\\t', header=0, encoding='utf-8', compression='xz')\n",
    "df2010 = pd.read_csv('./data/psp2010_2013.tsv.xz', sep='\\t', header=0, encoding='utf-8', compression='xz')\n",
    "df2017 = pd.read_csv('./data/psp2017.tsv.xz', sep='\\t', header=0, encoding='utf-8', compression='xz')\n",
    "df2013 = pd.read_csv('./data/psp2013_2017.tsv.xz', sep='\\t', header=0, encoding='utf-8', compression='xz')\n",
    "\n",
    "print(\"Pandas version: {}\".format(pd.__version__))\n",
    "\n",
    "df2017.columns"
   ]
  },
  {
   "cell_type": "markdown",
   "metadata": {
    "ein.tags": "worksheet-0",
    "slideshow": {
     "slide_type": "-"
    }
   },
   "source": [
    "The data frame contains interventions in each two and the following columns:\n",
    "   \n",
    "   - 'session', 'date', 'topic_idx', 'topic_str', 'order', \n",
    "     The session, the date of the session, the topic being discussed, and the order of intervention for the session\n",
    "   \n",
    "   - 'name','steno_name', \n",
    "     The name of the speacker and the string that appears in the steno protocol\n",
    "   \n",
    "       - 'age', 'sex', 'titles','party', 'birthday'\n",
    "       Information about the speaker; `age is the age at the time of the last steno of the dataset`\n",
    "   \n",
    "   - 'file_name', 'text', \n",
    "     The file name that contains the information, and the text in the filed\n",
    "   \n",
    "   - 'tokens', \n",
    "     The number of tokens on the unfiltered file\n",
    "\n",
    "\n",
    "We have loaded all the stenos and metadata from the sessions between 1993 and 2020.\n",
    "\n",
    "Let's do a sanity check and veorify that there are no dupplicates in the text field (i.e. same content downloaded in two differnt files)"
   ]
  },
  {
   "cell_type": "code",
   "execution_count": 4,
   "metadata": {
    "autoscroll": false,
    "collapsed": false,
    "ein.hycell": false,
    "ein.tags": "worksheet-0",
    "slideshow": {
     "slide_type": "-"
    }
   },
   "outputs": [
    {
     "name": "stdout",
     "output_type": "stream",
     "text": [
      "WARNING: found 6 dupplicates in data set df2010\n",
      "          Correcting...\n",
      "  6 dupplicates in data set df1993 after correction\n",
      "No dupplicates in data set df1996\n",
      "WARNING: found 12 dupplicates in data set df2010\n",
      "          Correcting...\n"
     ]
    },
    {
     "name": "stdout",
     "output_type": "stream",
     "text": [
      "  12 dupplicates in data set df1998 after correction\n",
      "No dupplicates in data set df2002\n"
     ]
    },
    {
     "name": "stdout",
     "output_type": "stream",
     "text": [
      "WARNING: found 1 dupplicates in data set df2010\n",
      "          Correcting...\n",
      "  1 dupplicates in data set df2006 after correction\n",
      "No dupplicates in data set df2010\n"
     ]
    },
    {
     "name": "stdout",
     "output_type": "stream",
     "text": [
      "No dupplicates in data set df2013\n",
      "No dupplicates in data set df2017\n"
     ]
    }
   ],
   "source": [
    "\n",
    "dfs = [(df1993,'df1993'), (df1996,'df1996'), (df1998,'df1998'),\n",
    "       (df2002,'df2002'), (df2006,'df2006'), (df2010,'df2010'),\n",
    "       (df2013,'df2013'), (df2017,'df2017') ]\n",
    "\n",
    "for df, df_name in dfs:\n",
    "    dup_count = df.duplicated([\"session\", \"topic_idx\", \"text\"]).sum()\n",
    "    if dup_count > 0:\n",
    "        print(f\"WARNING: found {dup_count} dupplicates in data set df2010\")\n",
    "        print(\"          Correcting...\")\n",
    "        df = df.drop_duplicates([\"session\", \"topic_idx\", \"text\"], keep='first')\n",
    "        print(f\"  {dup_count} dupplicates in data set {df_name} after correction\")\n",
    "    else:\n",
    "        print(f\"No dupplicates in data set {df_name}\")\n"
   ]
  },
  {
   "cell_type": "code",
   "execution_count": 11,
   "metadata": {
    "autoscroll": false,
    "collapsed": false,
    "ein.hycell": false,
    "ein.tags": "worksheet-0",
    "slideshow": {
     "slide_type": "-"
    }
   },
   "outputs": [
    {
     "name": "stdout",
     "output_type": "stream",
     "text": [
      "df1993\n",
      "\tTotal files:  11249\n",
      "\tTotal tokens: 2537473\n",
      "df1996\n",
      "\tTotal files:  11612\n",
      "\tTotal tokens: 2545109\n",
      "df1998\n",
      "\tTotal files:  24685\n",
      "\tTotal tokens: 4210373\n",
      "df2002\n",
      "\tTotal files:  25697\n",
      "\tTotal tokens: 4528242\n",
      "df2006\n",
      "\tTotal files:  19377\n",
      "\tTotal tokens: 3696899\n",
      "df2010\n",
      "\tTotal files:  16468\n",
      "\tTotal tokens: 3256285\n",
      "df2013\n",
      "\tTotal files:  28939\n",
      "\tTotal tokens: 5620010\n",
      "df2017\n",
      "\tTotal files:  15139\n",
      "\tTotal tokens: 3057989\n",
      "Total number of files in 8 datasets = 153166\n",
      "Total number of files in 8 datasets = 29452380\n"
     ]
    }
   ],
   "source": [
    "total_files = 0\n",
    "total_tokens = 0\n",
    "for df, df_name in dfs:\n",
    "    print(f\"{df_name}\")\n",
    "    print(f\"\\tTotal files:  {df['tokens'].count()}\")\n",
    "    print(f\"\\tTotal tokens: {df['tokens'].sum()}\")\n",
    "    total_files += df['tokens'].count()\n",
    "    total_tokens += df['tokens'].sum()\n",
    "\n",
    "print(f\"Total number of files in {len(dfs)} datasets = {total_files}\")\n",
    "print(f\"Total number of files in {len(dfs)} datasets = {total_tokens}\")\n",
    "\n"
   ]
  },
  {
   "cell_type": "markdown",
   "metadata": {
    "ein.tags": "worksheet-0",
    "slideshow": {
     "slide_type": "-"
    }
   },
   "source": [
    "We can see who are the people that have more tokens, for that we will group the data frame by `name` and sum the tokens. Finally we can take the 10 largest."
   ]
  },
  {
   "cell_type": "code",
   "execution_count": 22,
   "metadata": {
    "autoscroll": false,
    "collapsed": false,
    "ein.hycell": false,
    "ein.tags": "worksheet-0",
    "slideshow": {
     "slide_type": "-"
    }
   },
   "outputs": [
    {
     "name": "stdout",
     "output_type": "stream",
     "text": [
      "\n",
      "df1993:\n",
      "\tTotal number of different speakers: 225\n",
      "\tTop 10 speakers by number of tokens for df1993\n",
      "\n",
      "                          tokens\n",
      "name             party          \n",
      "Ivan Kočárník    ODS       85700\n",
      "Jozef Wagner     ČSSD      83429\n",
      "Milan Uhde       ODS       64409\n",
      "Zdeněk Vorlíček  KSČM      47964\n",
      "Miloslav Výborný KDU-ČSL   44838\n",
      "Jan Ruml         ODS       43601\n",
      "Jiří Vlach       ODS       38129\n",
      "Jiří Vyvadil     ČSSD      38071\n",
      "Jiří Novák       ODS       37056\n",
      "Gerta Mazalová   HSD-SMS   36897\n",
      "\n",
      "df1996:\n",
      "\tTotal number of different speakers: 226\n",
      "\tTop 10 speakers by number of tokens for df1996\n",
      "\n",
      "                           tokens\n",
      "name              party          \n",
      "Zdeněk Jičínský   ČSSD      73436\n",
      "Václav Klaus      ODS       68518\n",
      "Vojtěch Filip     KSČM      63783\n",
      "Miroslav Sládek   SPR-RSČ   60726\n",
      "Josef Krejsa      SPR-RSČ   55629\n",
      "Jozef Wagner      NOPARTY   54388\n",
      "Ivan Pilip        ODS       50824\n",
      "Miloš Zeman       ČSSD      48941\n",
      "Zdeněk Krampera   SPR-RSČ   44652\n",
      "Miloslav Ransdorf KSČM      44164\n",
      "\n",
      "df1998:\n",
      "\tTotal number of different speakers: 224\n",
      "\tTop 10 speakers by number of tokens for df1998\n",
      "\n",
      "                        tokens\n",
      "name             party        \n",
      "Stanislav Gross  ČSSD   141537\n",
      "Vojtěch Filip    KSČM   108807\n",
      "Pavel Mertlík    ČSSD   103495\n",
      "Ivan Langer      ODS    102952\n",
      "Vladimír Špidla  ČSSD    91238\n",
      "Miloš Zeman      ČSSD    84402\n",
      "Vlastimil Tlustý ODS     73456\n",
      "Petra Buzková    ČSSD    70743\n",
      "Jiří Payne       ODS     67713\n",
      "Zdeněk Jičínský  ODS     65847\n",
      "\n",
      "df2002:\n",
      "\tTotal number of different speakers: 239\n",
      "\tTop 10 speakers by number of tokens for df2002\n",
      "\n",
      "                          tokens\n",
      "name             party          \n",
      "Bohuslav Sobotka ČSSD     163619\n",
      "Ivan Langer      ODS      119943\n",
      "Stanislav Gross  ČSSD     115287\n",
      "Zdeněk Škromach  ČSSD     110262\n",
      "Vojtěch Filip    KSČM      96976\n",
      "Lubomír Zaorálek ČSSD      85727\n",
      "Eva Dundáčková   ODS       84006\n",
      "Karel Vymětal    KSČM      79738\n",
      "Josef Janeček    KDU-ČSL   79135\n",
      "Vladimír Špidla  ČSSD      77342\n",
      "\n",
      "df2006:\n",
      "\tTotal number of different speakers: 263\n",
      "\tTop 10 speakers by number of tokens for df2006\n",
      "\n",
      "                           tokens\n",
      "name              party          \n",
      "Mirek Topolánek   ODS      150825\n",
      "Bohuslav Sobotka  ČSSD     126911\n",
      "Miroslav Kalousek KDU-ČSL  106601\n",
      "Lubomír Zaorálek  ČSSD     105226\n",
      "David Rath        ČSSD     102010\n",
      "Petr Nečas        ODS       92661\n",
      "Martin Bursík     SZ        85143\n",
      "Vojtěch Filip     KSČM      76192\n",
      "Zdeněk Jičínský   ODS       75441\n",
      "Jiří Pospíšil     ODS       63949\n",
      "\n",
      "df2010:\n",
      "\tTotal number of different speakers: 262\n",
      "\tTop 10 speakers by number of tokens for df2010\n",
      "\n",
      "                         tokens\n",
      "name              party        \n",
      "Petr Nečas        ODS    120549\n",
      "Bohuslav Sobotka  ČSSD   112036\n",
      "Lubomír Zaorálek  ČSSD   109271\n",
      "Miroslav Kalousek TOP09  107981\n",
      "Jiří Paroubek     ČSSD    94977\n",
      "Jeroným Tejc      ČSSD    83728\n",
      "Jaromír Drábek    TOP09   70643\n",
      "Jiří Pospíšil     ODS     66443\n",
      "Leoš Heger        TOP09   65560\n",
      "Antonín Seďa      ČSSD    57824\n",
      "\n",
      "df2013:\n",
      "\tTotal number of different speakers: 260\n",
      "\tTop 10 speakers by number of tokens for df2013\n",
      "\n"
     ]
    },
    {
     "name": "stdout",
     "output_type": "stream",
     "text": [
      "                            tokens\n",
      "name               party          \n",
      "Zbyněk Stanjura    ODS      387564\n",
      "Bohuslav Sobotka   ČSSD     267594\n",
      "Miroslav Kalousek  TOP09    187703\n",
      "Petr Bendl         ODS      134829\n",
      "František Laudát   TOP09    112293\n",
      "Andrej Babiš       ANO2011  111385\n",
      "Martin Kolovratník ANO2011  105232\n",
      "Vojtěch Filip      KSČM     103694\n",
      "Ludvík Hovorka     KDU-ČSL   97121\n",
      "Michal Kučera      TOP09     83998\n",
      "\n",
      "df2017:\n",
      "\tTotal number of different speakers: 263\n",
      "\tTop 10 speakers by number of tokens for df2017\n",
      "\n",
      "                            tokens\n",
      "name               party          \n",
      "Zbyněk Stanjura    ODS      139704\n",
      "Andrej Babiš       ANO2011   91046\n",
      "Alena Schillerová  ANO2011   82463\n",
      "Martin Kolovratník ANO2011   79072\n",
      "Jakub Michálek     Piráti    74209\n",
      "Tomio Okamura      SPD       68445\n",
      "Miroslav Kalousek  TOP09     62115\n",
      "Adam Vojtěch       ANO2011   61914\n",
      "Vojtěch Munzar     ODS       56799\n",
      "Mikuláš Ferjenčík  Piráti    54037\n"
     ]
    }
   ],
   "source": [
    "top_n = 10\n",
    "\n",
    "for df, df_name in dfs:\n",
    "    g_name = df.groupby([\"name\",\"party\"])\n",
    "    print(f\"\\n{df_name}:\")\n",
    "    print(f\"\\tTotal number of different speakers: {len(g_name)}\")\n",
    "    print(f\"\\tTop {top_n} speakers by number of tokens for {df_name}\\n\")\n",
    "    print(g_name[[\"party\",\"tokens\"]].sum().nlargest(top_n, \"tokens\"))"
   ]
  },
  {
   "cell_type": "code",
   "execution_count": 52,
   "metadata": {
    "autoscroll": false,
    "collapsed": false,
    "ein.hycell": false,
    "ein.tags": "worksheet-0",
    "slideshow": {
     "slide_type": "-"
    }
   },
   "outputs": [
    {
     "data": {
      "image/png": "[encoded data removed]",
      "text/plain": [
       "<Figure size 1008x720 with 8 Axes>"
      ]
     },
     "metadata": {},
     "output_type": "display_data"
    }
   ],
   "source": [
    "matplotlib.rcParams['figure.figsize'] = [14, 10]\n",
    "\n",
    "cols = 3\n",
    "rows = len(dfs)//3\n",
    "if len(dfs)%3: \n",
    "    rows += 1\n",
    "\n",
    "plt.suptitle(\"Distribution of # tokens per person\")\n",
    "idx = 1\n",
    "for df, df_name in dfs:\n",
    "    \n",
    "\n",
    "    ax1=plt.subplot(rows, cols, idx)\n",
    "    df.groupby([\"name\"])[\"tokens\"].sum().hist(bins=100, ax=ax1)\n",
    "    plt.title(f\"{df_name}\")\n",
    "    if idx%3 == 1:\n",
    "        plt.ylabel(\"# persons\")\n",
    "    plt.xlabel('# tokens')\n",
    "    idx += 1\n",
    "\n",
    "plt.subplots_adjust(hspace=0.4, wspace=0.1)\n"
   ]
  },
  {
   "cell_type": "code",
   "execution_count": 48,
   "metadata": {
    "autoscroll": false,
    "collapsed": false,
    "ein.hycell": false,
    "ein.tags": "worksheet-0",
    "slideshow": {
     "slide_type": "-"
    }
   },
   "outputs": [
    {
     "data": {
      "image/png": "[encoded data removed]",
      "text/plain": [
       "<Figure size 1008x720 with 8 Axes>"
      ]
     },
     "metadata": {},
     "output_type": "display_data"
    }
   ],
   "source": [
    "\n",
    "matplotlib.rcParams['figure.figsize'] = [14, 10]\n",
    "cols = 3\n",
    "rows = len(dfs)//3\n",
    "if len(dfs)%3: \n",
    "    rows += 1\n",
    "plt.suptitle('Distribution of #tokens per party')\n",
    "\n",
    "idx = 1\n",
    "for df, df_name in dfs:\n",
    "    \n",
    "\n",
    "    ax1=plt.subplot(rows, cols, idx)\n",
    "    kk=df.groupby([\"party\"])[\"tokens\"].sum().plot.bar(ax=ax1)\n",
    "    plt.ylabel(\"# tokens\")\n",
    "    _ = plt.title(f\"{df_name}\")\n",
    "    idx += 1\n",
    "plt.subplots_adjust(hspace=0.8, wspace=0.3)\n"
   ]
  },
  {
   "cell_type": "markdown",
   "metadata": {
    "ein.tags": "worksheet-0",
    "slideshow": {
     "slide_type": "-"
    }
   },
   "source": [
    "For our analysis model we need relatively long speaches, we will consider only speeches longer than 1000 tokens.\n",
    "\n",
    "Now let's count how many interventions have more than 1000 tokens"
   ]
  },
  {
   "cell_type": "code",
   "execution_count": 29,
   "metadata": {
    "autoscroll": false,
    "collapsed": false,
    "ein.hycell": false,
    "ein.tags": "worksheet-0",
    "slideshow": {
     "slide_type": "-"
    }
   },
   "outputs": [
    {
     "name": "stdout",
     "output_type": "stream",
     "text": [
      "df1993:\n",
      "Long interventions (more than 1000 tokens) in df1993: 365 - total tokens 539651 \n",
      "df1996:\n",
      "Long interventions (more than 1000 tokens) in df1996: 357 - total tokens 543886 \n",
      "df1998:\n",
      "Long interventions (more than 1000 tokens) in df1998: 58 - total tokens 62479 \n",
      "df2002:\n",
      "Long interventions (more than 1000 tokens) in df2002: 98 - total tokens 106944 \n",
      "df2006:\n",
      "Long interventions (more than 1000 tokens) in df2006: 101 - total tokens 112006 \n",
      "df2010:\n",
      "Long interventions (more than 1000 tokens) in df2010: 113 - total tokens 124244 \n",
      "df2013:\n",
      "Long interventions (more than 1000 tokens) in df2013: 171 - total tokens 192204 \n",
      "df2017:\n",
      "Long interventions (more than 1000 tokens) in df2017: 102 - total tokens 115672 \n"
     ]
    }
   ],
   "source": [
    "limit = 1000\n",
    "\n",
    "for df, df_name in dfs:\n",
    "    longdf = df[df[\"tokens\"] > limit][\"text\"].count()\n",
    "    longdf_tokens = df[df[\"tokens\"] > limit][\"tokens\"].sum()\n",
    "    print(f\"{df_name}:\")\n",
    "    print(f\"Long interventions (more than {limit} tokens) in {df_name}: {longdf} - total tokens {longdf_tokens} \")\n"
   ]
  },
  {
   "cell_type": "markdown",
   "metadata": {
    "ein.tags": "worksheet-0",
    "slideshow": {
     "slide_type": "-"
    }
   },
   "source": [
    "If we consider only speeches of 1000 tokens we don't end up with a lot of data, let's agregate per speaker per session and topic and check the number of tokens we obtain considering only those speakers that have an aggregated number of tokens per session over 1000"
   ]
  },
  {
   "cell_type": "code",
   "execution_count": 30,
   "metadata": {
    "autoscroll": false,
    "collapsed": false,
    "ein.hycell": false,
    "ein.tags": "worksheet-0",
    "slideshow": {
     "slide_type": "-"
    }
   },
   "outputs": [
    {
     "name": "stdout",
     "output_type": "stream",
     "text": [
      "df1993:\n",
      "Long interventions (more than 1000 tokens) in df1993: 536 - total tokens 859407 \n",
      "df1996:\n",
      "Long interventions (more than 1000 tokens) in df1996: 541 - total tokens 930231 \n",
      "df1998:\n",
      "Long interventions (more than 1000 tokens) in df1998: 442 - total tokens 603886 \n",
      "df2002:\n",
      "Long interventions (more than 1000 tokens) in df2002: 522 - total tokens 775714 \n",
      "df2006:\n",
      "Long interventions (more than 1000 tokens) in df2006: 621 - total tokens 1001205 \n",
      "df2010:\n",
      "Long interventions (more than 1000 tokens) in df2010: 507 - total tokens 806673 \n",
      "df2013:\n",
      "Long interventions (more than 1000 tokens) in df2013: 923 - total tokens 1564650 \n",
      "df2017:\n",
      "Long interventions (more than 1000 tokens) in df2017: 587 - total tokens 949478 \n"
     ]
    }
   ],
   "source": [
    "limit = 1000\n",
    "\n",
    "limit = 1000\n",
    "\n",
    "for df, df_name in dfs:\n",
    "    longdf = df[df[\"tokens\"] > limit][\"text\"].count()\n",
    "    longdf_tokens = df[df[\"tokens\"] > limit][\"tokens\"].sum()\n",
    "\n",
    "    grp = df.groupby(by=[\"name\", \"session\", \"topic_idx\"])\n",
    "    longdf = grp[\"tokens\"].sum()[ grp[\"tokens\"].sum() > limit ].count()\n",
    "    longdf_tokens = grp[\"tokens\"].sum()[ grp[\"tokens\"].sum() > limit].sum()\n",
    "\n",
    "    print(f\"{df_name}:\")\n",
    "    print(f\"Long interventions (more than {limit} tokens) in {df_name}: {longdf} - total tokens {longdf_tokens} \")\n",
    "\n"
   ]
  },
  {
   "cell_type": "code",
   "execution_count": 31,
   "metadata": {
    "autoscroll": false,
    "collapsed": false,
    "ein.hycell": false,
    "ein.tags": "worksheet-0",
    "slideshow": {
     "slide_type": "-"
    }
   },
   "outputs": [
    {
     "data": {
      "text/plain": [
       "Text(0.5, 1.0, 'Tokens per speech in 2017-')"
      ]
     },
     "execution_count": 31,
     "metadata": {},
     "output_type": "execute_result"
    },
    {
     "data": {
      "image/png": "[encoded data removed]",
      "text/plain": [
       "<Figure size 864x360 with 1 Axes>"
      ]
     },
     "metadata": {},
     "output_type": "display_data"
    }
   ],
   "source": [
    "# Create a groupby object and then build a data frame with sum of tokens and appended strings, group by more fields if required\n",
    "g2017 = df2017.groupby(['session', 'topic_idx', 'name'])\n",
    "df2017agg = pd.merge(g2017['tokens'].sum(), g2017['text'].sum(), left_index=True, right_index=True).reset_index()\n",
    "_ = plt.hist(df2017agg['tokens'], bins=200, alpha=0.75)\n",
    "plt.grid()\n",
    "plt.ylabel(\"# of speeches\")\n",
    "plt.xlabel('# of tokens')\n",
    "plt.title('Tokens per speech in 2017-')"
   ]
  },
  {
   "cell_type": "code",
   "execution_count": 32,
   "metadata": {
    "autoscroll": false,
    "collapsed": false,
    "ein.hycell": false,
    "ein.tags": "worksheet-0",
    "slideshow": {
     "slide_type": "-"
    }
   },
   "outputs": [
    {
     "data": {
      "text/html": [
       "<div>\n<style scoped>\n    .dataframe tbody tr th:only-of-type {\n        vertical-align: middle;\n    }\n\n    .dataframe tbody tr th {\n        vertical-align: top;\n    }\n\n    .dataframe thead th {\n        text-align: right;\n    }\n</style>\n<table border=\"1\" class=\"dataframe\">\n  <thead>\n    <tr style=\"text-align: right;\">\n      <th></th>\n      <th>session</th>\n      <th>topic_idx</th>\n      <th>name</th>\n      <th>tokens</th>\n      <th>text</th>\n    </tr>\n  </thead>\n  <tbody>\n    <tr>\n      <th>39</th>\n      <td>1</td>\n      <td>7</td>\n      <td>Pavel Bělobrádek</td>\n      <td>1315</td>\n      <td>Vážený pane předsedající, kolegyně, kolegové, ...</td>\n    </tr>\n    <tr>\n      <th>47</th>\n      <td>1</td>\n      <td>7</td>\n      <td>Zbyněk Stanjura</td>\n      <td>1007</td>\n      <td>Hezké dopoledne, pane předsedající, členové vl...</td>\n    </tr>\n    <tr>\n      <th>50</th>\n      <td>1</td>\n      <td>9</td>\n      <td>Andrej Babiš</td>\n      <td>1124</td>\n      <td>Takže dobrý den, vážený pane předsedající. Kol...</td>\n    </tr>\n    <tr>\n      <th>63</th>\n      <td>1</td>\n      <td>9</td>\n      <td>Miroslav Kalousek</td>\n      <td>1861</td>\n      <td>Děkuji za slovo, pane předsedo. Vážené paní po...</td>\n    </tr>\n    <tr>\n      <th>68</th>\n      <td>1</td>\n      <td>9</td>\n      <td>Radek Vondráček</td>\n      <td>2041</td>\n      <td>Tak uvidíme, jestli zůstanu poslední. Vážené k...</td>\n    </tr>\n    <tr>\n      <th>...</th>\n      <td>...</td>\n      <td>...</td>\n      <td>...</td>\n      <td>...</td>\n      <td>...</td>\n    </tr>\n    <tr>\n      <th>7953</th>\n      <td>39</td>\n      <td>292</td>\n      <td>Richard Brabec</td>\n      <td>1749</td>\n      <td>Děkuji za ten dotaz. Já vám teď neřeknu nějaké...</td>\n    </tr>\n    <tr>\n      <th>7956</th>\n      <td>39</td>\n      <td>292</td>\n      <td>Vladimír Kremlík</td>\n      <td>3329</td>\n      <td>Vážený pane předsedající, vážený pane poslanče...</td>\n    </tr>\n    <tr>\n      <th>7961</th>\n      <td>39</td>\n      <td>292</td>\n      <td>Věra Kovářová</td>\n      <td>1599</td>\n      <td>Vážený pane premiére, minulý týden jsem zaznam...</td>\n    </tr>\n    <tr>\n      <th>7975</th>\n      <td>39</td>\n      <td>295</td>\n      <td>Ivan Bartoš</td>\n      <td>2351</td>\n      <td>Dobrý den, dámy a pánové. Pane předsedající, d...</td>\n    </tr>\n    <tr>\n      <th>7995</th>\n      <td>39</td>\n      <td>295</td>\n      <td>Zbyněk Stanjura</td>\n      <td>1119</td>\n      <td>Já se omlouvám, ale podle mě musíme nazývat vě...</td>\n    </tr>\n  </tbody>\n</table>\n<p>587 rows × 5 columns</p>\n</div>"
      ],
      "text/plain": [
       "      session  topic_idx               name  tokens  \\\n39          1          7   Pavel Bělobrádek    1315   \n47          1          7    Zbyněk Stanjura    1007   \n50          1          9       Andrej Babiš    1124   \n63          1          9  Miroslav Kalousek    1861   \n68          1          9    Radek Vondráček    2041   \n...       ...        ...                ...     ...   \n7953       39        292     Richard Brabec    1749   \n7956       39        292   Vladimír Kremlík    3329   \n7961       39        292      Věra Kovářová    1599   \n7975       39        295        Ivan Bartoš    2351   \n7995       39        295    Zbyněk Stanjura    1119   \n\n                                                   text  \n39    Vážený pane předsedající, kolegyně, kolegové, ...  \n47    Hezké dopoledne, pane předsedající, členové vl...  \n50    Takže dobrý den, vážený pane předsedající. Kol...  \n63    Děkuji za slovo, pane předsedo. Vážené paní po...  \n68    Tak uvidíme, jestli zůstanu poslední. Vážené k...  \n...                                                 ...  \n7953  Děkuji za ten dotaz. Já vám teď neřeknu nějaké...  \n7956  Vážený pane předsedající, vážený pane poslanče...  \n7961  Vážený pane premiére, minulý týden jsem zaznam...  \n7975  Dobrý den, dámy a pánové. Pane předsedající, d...  \n7995  Já se omlouvám, ale podle mě musíme nazývat vě...  \n\n[587 rows x 5 columns]"
      ]
     },
     "execution_count": 32,
     "metadata": {},
     "output_type": "execute_result"
    }
   ],
   "source": [
    "df2017agg[df2017agg['tokens']>limit]"
   ]
  }
 ],
 "metadata": {
  "kernelspec": {
   "argv": [
    "/usr/bin/python3",
    "-m",
    "ipykernel_launcher",
    "-f",
    "{connection_file}"
   ],
   "display_name": "Python 3",
   "env": null,
   "interrupt_mode": "signal",
   "language": "python",
   "metadata": null,
   "name": "python3"
  },
  "language_info": {
   "codemirror_mode": {
    "name": "ipython",
    "version": 3
   },
   "file_extension": ".py",
   "mimetype": "text/x-python",
   "name": "python",
   "nbconvert_exporter": "python",
   "pygments_lexer": "ipython3",
   "version": "3.6.8"
  },
  "name": "1_analysing_downloaded_data.ipynb"
 },
 "nbformat": 4,
 "nbformat_minor": 2
}
